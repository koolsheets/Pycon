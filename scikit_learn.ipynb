{
 "cells": [
  {
   "cell_type": "markdown",
   "metadata": {},
   "source": [
    "# Scikit-learn\n",
    "\n",
    "(If you're using the code files, please open scikit_learn_lessons.py)\n",
    "\n",
    "## A brief intro to machine learning\n",
    "\n",
    "There's a fair bit of backround knowledge that's important to know before we dive into the code. The actual code is rather simple, but I want you to understand exactly what's going on.\n",
    "\n",
    "### What is machine learning?\n",
    "\n",
    "Machine learning is the study and application of algorithms that learn from examples. It's concerned with constructing systems that learn from data, systems that can then make future predictions based on past input. It's based on the ideas of representation and generalization: the representation of relationships within the data, and the ability to generalize those relationships to new data. This means that we can create a model that will learn something from the data that we have, and then apply what it learns to data that it hasn't seen before. Machine learning provides a way to build executable data summaries; it helps us build better software by predicting more accurately on future inputs.\n",
    "\n",
    "### Why is it useful?\n",
    "\n",
    "This is an important topic because machine learning is everywhere. For example, your email spam filter is already trained to mark certain emails as spam, based on things like frequency of capital letters or number of suspicious links within an email. If a spam email does get through to your inbox and you manually mark it as spam, your spam filter learns from that input, and will mark similar emails as spam in the future. Another example is Netflix's recommender system. The more movies you rate on Netflix, the more that the recommender system learns what kind of movies you like to watch. The system will then get better at recommending to you appropriate movie choices. Machine learning is especially useful in data analysis.\n",
    "\n",
    "### Some terms\n",
    "\n",
    "- observation/instance/data point: these all mean the same thing, and that is one particular piece of the data that we can grab information about and learn relationships from.\n",
    "- label/class: in classification, the label/class is what we aim to classify our new data as. Ex: email as spam or not spam.\n",
    "- feature: features describe the data. Features of email spam could be number of capital letter or frequency of known spam words.\n",
    "- categorical: discrete and finite data; has categories. Ex. spam or not spam.\n",
    "- continuous: subset of real numbers, can take on any value between two points. Ex. temperature degrees.\n",
    "\n",
    "### Types of machine learning\n",
    "\n",
    "#### Supervised\n",
    "Supervised learning is machine learning that makes use of labeled data. Supervised learning algorithms can use past observations to make future predictions on both categorical and continuous data. The two main types of supervised learning are classification and regression. Classification predicts labels, such as spam or not spam. Regression predicts the relationship between continuous variables, such as the relationship between temperature and elevation.\n",
    "\n",
    "#### Unsupervised\n",
    "Unsupervised learning is used when the data is unlabeled. You might not know what you're looking for within your data, and unsupervised learning can help you figure it out. Clustering is an example of unsupervised learning, where data instances are grouped together in a way that observations in the same group are more similar to each other than to those in other groups. Another example is dimensionality reduction, where the number of random variables is reduced, and is used for both feature selection and feature extraction.\n",
    "\n",
    "## What is scikit-learn?\n",
    "Scikit-learn is an open-source machine learning module. The scikit-learn project is constantly being developed and improved, and it has a very active user community. The documentation on the website is very thorough with plenty of examples, and there are a number of tutorials and guides for learning how scikit-learn works.\n",
    "\n",
    "### Why scikit-learn?\n",
    "You might be wondering why you'd want to use Python and scikit-learn, rather than other popular tools like MATLAB or R. Because scikit-learn is open source, it's free to use! Also, it's currently the most comprehensive machine learning tool for Python. There are also a number of Python libraries that work well with scikit-learn and extend its capabilities. \n",
    "\n",
    "## About this section\n",
    "We're going to cover supervised learning due to time constraints. We'll talk about a few classifiers as well as linear regression. For the final lesson of this section, we'll use the three classifiers we learn about, k-nearest neighbor, decision trees, and the Naive Bayes classifier, on our census_data dataset. We'll then compare the classifiers and see which one is better for our data.\n",
    "\n",
    "## Let's start with classification\n",
    "Classification, again, classifies data into specific categories, and solves the task of figuring out which category new data belong to. There are many different kinds of classifiers, and which one you want to use depends on your data. We're only going to be covering k-Nearest Neighbors (kNN) and the Naive Bayes classifier (NB) because they're among the simplest to implement and understand.\n",
    "\n",
    "For both algorithms, I'll walk you through simple examples of each, so that you'll have an idea of how they work. I'll also show you how to evaluate the models we create.\n",
    "\n",
    "Something important to notice in my examples is that when we train, we use a different dataset than when we predict. This is to avoid the problem of overfitting. So, what's overfitting? Well, let's say we train our model on the entire dataset. If we want to also test with that dataset, we won't be able to get an accurate picture of how good our model is, because now it knows our entire dataset by heart. This is why we split up our sets.\n",
    "\n",
    "## k-Nearest Neighbors\n",
    "\n",
    "The k-Nearest Neighbors (kNN) algorithm finds a predetermined number of \"neighbor\" samples that are closest in distance to a starting data point and makes predictions based on the distances. kNN predicts labels by looking at the labels of its nearest neighbors. The metric used to calcuate the distances between points can be any distance metric measure, such as the Euclidean metric or the Manhattan distance.\n",
    "\n",
    "kNN is useful when your data is linear in nature and can therefore be measured with a distance metric. Also, kNN does well when the decision boundary (or the delineation between classes) is hard to identify. \n",
    "\n",
    "kNN comes with a couple of caveats. If the classes in your dataset are unevenly distributed, the highest-occuring label will tend to dominate predictions. Also, choosing the *k* of kNN can be tricky. Choosing *k* deserves its own three hour tutorial, so we'll just go with the defaults for today.\n",
    "\n",
    "### Classifying in scikit-learn: kNN\n",
    "\n",
    "As we go through these examples, you'll notice that the basic fitting and predicting process is basically the same, which is one of the things that makes scikit-learn relatively easy to use.\n",
    "\n",
    "Let's start by reading in some data and its labels, and then split it up so we don't overfit. The default split for the `train_test_split()` function is 0.25, meaning that 75% of the data is split into the training set and %25 is split into the test set. If you want a different split, that's something that can be changed."
   ]
  },
  {
   "cell_type": "code",
   "execution_count": 1,
   "metadata": {},
   "outputs": [],
   "source": [
    "import pandas as pd\n",
    "from sklearn.model_selection import train_test_split\n",
    "\n",
    "wine_data = pd.read_csv('../data/wine_data.csv')\n",
    "wine_labels = pd.read_csv('../data/wine_labels.csv', squeeze=True)\n",
    "\n",
    "wine_data_train, wine_data_test, wine_labels_train, wine_labels_test = train_test_split(wine_data, wine_labels)"
   ]
  },
  {
   "cell_type": "code",
   "execution_count": null,
   "metadata": {},
   "outputs": [],
   "source": []
  },
  {
   "cell_type": "markdown",
   "metadata": {},
   "source": [
    "Scikit-learn can actually understand `DataFrames`, and can use them as input. Here's what one row from `wine_data_train` looks like, which is a `DataFrame`."
   ]
  },
  {
   "cell_type": "code",
   "execution_count": 9,
   "metadata": {},
   "outputs": [
    {
     "data": {
      "text/html": [
       "<div>\n",
       "<style scoped>\n",
       "    .dataframe tbody tr th:only-of-type {\n",
       "        vertical-align: middle;\n",
       "    }\n",
       "\n",
       "    .dataframe tbody tr th {\n",
       "        vertical-align: top;\n",
       "    }\n",
       "\n",
       "    .dataframe thead th {\n",
       "        text-align: right;\n",
       "    }\n",
       "</style>\n",
       "<table border=\"1\" class=\"dataframe\">\n",
       "  <thead>\n",
       "    <tr style=\"text-align: right;\">\n",
       "      <th></th>\n",
       "      <th>abv</th>\n",
       "      <th>malic_acid</th>\n",
       "      <th>ash</th>\n",
       "      <th>alcalinity</th>\n",
       "      <th>magnesium</th>\n",
       "      <th>total_phenols</th>\n",
       "      <th>flavanoids</th>\n",
       "      <th>nonflavanoid_phenols</th>\n",
       "      <th>proanthocyacins</th>\n",
       "      <th>color</th>\n",
       "      <th>hue</th>\n",
       "      <th>dilution</th>\n",
       "      <th>proline</th>\n",
       "    </tr>\n",
       "  </thead>\n",
       "  <tbody>\n",
       "    <tr>\n",
       "      <td>48</td>\n",
       "      <td>14.1</td>\n",
       "      <td>2.02</td>\n",
       "      <td>2.4</td>\n",
       "      <td>18.8</td>\n",
       "      <td>103</td>\n",
       "      <td>2.75</td>\n",
       "      <td>2.92</td>\n",
       "      <td>0.32</td>\n",
       "      <td>2.38</td>\n",
       "      <td>6.2</td>\n",
       "      <td>1.07</td>\n",
       "      <td>2.75</td>\n",
       "      <td>1060</td>\n",
       "    </tr>\n",
       "  </tbody>\n",
       "</table>\n",
       "</div>"
      ],
      "text/plain": [
       "     abv  malic_acid  ash  alcalinity  magnesium  total_phenols  flavanoids  \\\n",
       "48  14.1        2.02  2.4        18.8        103           2.75        2.92   \n",
       "\n",
       "    nonflavanoid_phenols  proanthocyacins  color   hue  dilution  proline  \n",
       "48                  0.32             2.38    6.2  1.07      2.75     1060  "
      ]
     },
     "execution_count": 9,
     "metadata": {},
     "output_type": "execute_result"
    }
   ],
   "source": [
    "wine_data_train[:1]"
   ]
  },
  {
   "cell_type": "markdown",
   "metadata": {},
   "source": [
    "Let's compare the lengths of the original `DataFrame` and the training set."
   ]
  },
  {
   "cell_type": "code",
   "execution_count": 10,
   "metadata": {},
   "outputs": [
    {
     "name": "stdout",
     "output_type": "stream",
     "text": [
      "178 133\n"
     ]
    }
   ],
   "source": [
    "print (len(wine_data), len(wine_data_train))"
   ]
  },
  {
   "cell_type": "markdown",
   "metadata": {},
   "source": [
    "Now we can fit kNN to our training data. This is pretty easy. We create our estimator object and then use the fit() function to fit the algorithm to our data."
   ]
  },
  {
   "cell_type": "code",
   "execution_count": 11,
   "metadata": {},
   "outputs": [
    {
     "data": {
      "text/plain": [
       "KNeighborsClassifier(algorithm='auto', leaf_size=30, metric='minkowski',\n",
       "                     metric_params=None, n_jobs=None, n_neighbors=5, p=2,\n",
       "                     weights='uniform')"
      ]
     },
     "execution_count": 11,
     "metadata": {},
     "output_type": "execute_result"
    }
   ],
   "source": [
    "from sklearn.neighbors import KNeighborsClassifier\n",
    "\n",
    "knn = KNeighborsClassifier()\n",
    "knn.fit(wine_data_train, wine_labels_train)"
   ]
  },
  {
   "cell_type": "markdown",
   "metadata": {},
   "source": [
    "And finally, let's use our fitted model to predict on new data."
   ]
  },
  {
   "cell_type": "code",
   "execution_count": 12,
   "metadata": {},
   "outputs": [
    {
     "data": {
      "text/plain": [
       "array([2, 2, 1, 1, 1, 1, 3, 3, 1, 1, 2, 2, 2, 1, 2, 3, 3, 2, 2, 2, 1, 2,\n",
       "       3, 2, 2, 2, 2, 3, 1, 1, 1, 2, 3, 1, 1, 1, 3, 2, 2, 1, 3, 3, 1, 3,\n",
       "       2], dtype=int64)"
      ]
     },
     "execution_count": 12,
     "metadata": {},
     "output_type": "execute_result"
    }
   ],
   "source": [
    "knn.predict(wine_data_test)"
   ]
  },
  {
   "cell_type": "markdown",
   "metadata": {},
   "source": [
    "Let's look at the real labels."
   ]
  },
  {
   "cell_type": "code",
   "execution_count": 13,
   "metadata": {},
   "outputs": [
    {
     "data": {
      "text/plain": [
       "108    2\n",
       "130    3\n",
       "16     1\n",
       "49     1\n",
       "69     2\n",
       "14     1\n",
       "65     2\n",
       "96     2\n",
       "176    3\n",
       "32     1\n",
       "107    2\n",
       "103    2\n",
       "75     2\n",
       "70     2\n",
       "111    2\n",
       "98     2\n",
       "155    3\n",
       "61     2\n",
       "146    3\n",
       "159    3\n",
       "73     2\n",
       "116    2\n",
       "100    2\n",
       "71     2\n",
       "82     2\n",
       "90     2\n",
       "76     2\n",
       "172    3\n",
       "50     1\n",
       "51     1\n",
       "15     1\n",
       "97     2\n",
       "160    3\n",
       "175    3\n",
       "31     1\n",
       "95     2\n",
       "148    3\n",
       "91     2\n",
       "152    3\n",
       "145    3\n",
       "60     2\n",
       "163    3\n",
       "174    3\n",
       "131    3\n",
       "99     2\n",
       "Name: wine_type, dtype: int64"
      ]
     },
     "execution_count": 13,
     "metadata": {},
     "output_type": "execute_result"
    }
   ],
   "source": [
    "wine_labels_test"
   ]
  },
  {
   "cell_type": "markdown",
   "metadata": {},
   "source": [
    "You can see that there are some differences between the predictions and the actual labels. Let's actually calculate how accurate our classifier is. We can do that using cross-validation. Cross-validation is a method that takes a dataset, randomly splits it into training and test sets, and computes how accurate the model is by checking it against the real labels. It does this multiple times, and splits the dataset differently each time. \n",
    "\n",
    "The `cross_val_score()` function takes several parameters. The first is the model you've fitted (in this case it's knn), the second is the entire dataset, the second is the entire list of labels, and if you'd like you can specify how many times you want to cross-validate (the cv parameter)."
   ]
  },
  {
   "cell_type": "code",
   "execution_count": 16,
   "metadata": {},
   "outputs": [
    {
     "data": {
      "text/plain": [
       "array([0.69565217, 0.69565217, 0.52173913, 0.68181818, 0.63636364,\n",
       "       0.72727273, 0.77272727, 0.80952381])"
      ]
     },
     "execution_count": 16,
     "metadata": {},
     "output_type": "execute_result"
    }
   ],
   "source": [
    "from sklearn.model_selection import cross_val_score\n",
    "\n",
    "cross_val_score(knn, wine_data, wine_labels, cv=8)"
   ]
  },
  {
   "cell_type": "markdown",
   "metadata": {},
   "source": [
    "So our model is approximately 70% accurate. That's not so great, but you get the idea."
   ]
  },
  {
   "cell_type": "markdown",
   "metadata": {},
   "source": [
    "## Lesson: classification with kNN!"
   ]
  },
  {
   "cell_type": "code",
   "execution_count": 17,
   "metadata": {},
   "outputs": [],
   "source": [
    "# We're going to be using scikit-learn's built in datasets for this.\n",
    "\n",
    "from sklearn.datasets import load_iris\n",
    "\n",
    "iris = load_iris()\n",
    "iris_data = iris.data\n",
    "iris_labels = iris.target\n",
    "\n",
    "# Can you split the data into training and test sets?\n",
    "\n",
    "\n",
    "iris_data_train, iris_data_test, iris_labels_train, iris_labels_test = train_test_split(iris_data, iris_labels)"
   ]
  },
  {
   "cell_type": "code",
   "execution_count": 19,
   "metadata": {},
   "outputs": [
    {
     "data": {
      "text/plain": [
       "KNeighborsClassifier(algorithm='auto', leaf_size=30, metric='minkowski',\n",
       "                     metric_params=None, n_jobs=None, n_neighbors=5, p=2,\n",
       "                     weights='uniform')"
      ]
     },
     "execution_count": 19,
     "metadata": {},
     "output_type": "execute_result"
    }
   ],
   "source": [
    "# Now, let's use the training data and labels to train our model.\n",
    "\n",
    "knn_iris = KNeighborsClassifier()\n",
    "knn_iris.fit(iris_data_train,iris_labels_train)"
   ]
  },
  {
   "cell_type": "code",
   "execution_count": 20,
   "metadata": {},
   "outputs": [
    {
     "data": {
      "text/plain": [
       "array([1, 2, 2, 1, 0, 1, 1, 0, 0, 0, 0, 0, 1, 0, 1, 1, 0, 0, 0, 2, 1, 0,\n",
       "       2, 2, 2, 2, 1, 2, 0, 0, 2, 2, 0, 1, 0, 1, 2, 2])"
      ]
     },
     "execution_count": 20,
     "metadata": {},
     "output_type": "execute_result"
    }
   ],
   "source": [
    "# And now, let's predict on our test set.\n",
    "knn_iris.predict(iris_data_test)"
   ]
  },
  {
   "cell_type": "code",
   "execution_count": 21,
   "metadata": {},
   "outputs": [
    {
     "data": {
      "text/plain": [
       "array([1, 2, 2, 1, 0, 1, 1, 0, 0, 0, 0, 0, 1, 0, 1, 1, 0, 0, 0, 2, 1, 0,\n",
       "       2, 2, 2, 2, 1, 2, 0, 0, 2, 2, 0, 1, 0, 1, 2, 2])"
      ]
     },
     "execution_count": 21,
     "metadata": {},
     "output_type": "execute_result"
    }
   ],
   "source": [
    "# Let's compare the predictions to the actual labels. Output the real labels.\n",
    "iris_labels_test"
   ]
  },
  {
   "cell_type": "code",
   "execution_count": 22,
   "metadata": {},
   "outputs": [
    {
     "data": {
      "text/plain": [
       "array([0.95238095, 1.        , 1.        , 0.88888889, 0.94444444,\n",
       "       0.94444444, 1.        , 1.        ])"
      ]
     },
     "execution_count": 22,
     "metadata": {},
     "output_type": "execute_result"
    }
   ],
   "source": [
    "# Let's score our model using cross-validation to see how good it is.\n",
    "cross_val_score(knn_iris, iris_data, iris_labels, cv=8)"
   ]
  },
  {
   "cell_type": "markdown",
   "metadata": {},
   "source": [
    "## Decision trees\n",
    "\n",
    "Decision trees are predictive models that learn simple decision rules based on the features within a dataset. They map observations about an item to conclusions about the item's target value. Leaves represent class labels and branches represent conjunctions of features that lead to those class labels. Decision trees in machine learning are made of the same decision trees that are used in game theory or decision analysis. \n",
    "\n",
    "Decision trees are great for heterogeneous data, having the ability to handle both categorical and continuous data; however, they are fairly simple in nature and can lack the ability to capture rich relationships within a dataset.\n",
    "\n",
    "### Classifying in scikit-learn: decision trees\n",
    "\n",
    "We're going to basically do the same thing we just did, but with a different classifier."
   ]
  },
  {
   "cell_type": "code",
   "execution_count": 23,
   "metadata": {},
   "outputs": [
    {
     "data": {
      "text/plain": [
       "array([2, 2, 1, 1, 2, 1, 2, 3, 3, 1, 2, 2, 2, 3, 2, 2, 3, 2, 3, 3, 1, 2,\n",
       "       2, 1, 2, 2, 2, 3, 1, 1, 1, 2, 3, 3, 1, 1, 3, 2, 3, 3, 3, 3, 3, 3,\n",
       "       2], dtype=int64)"
      ]
     },
     "execution_count": 23,
     "metadata": {},
     "output_type": "execute_result"
    }
   ],
   "source": [
    "from sklearn.tree import DecisionTreeClassifier\n",
    "\n",
    "tree = DecisionTreeClassifier()\n",
    "tree.fit(wine_data_train, wine_labels_train)\n",
    "tree.predict(wine_data_test)"
   ]
  },
  {
   "cell_type": "markdown",
   "metadata": {},
   "source": [
    "Let's look at the real labels."
   ]
  },
  {
   "cell_type": "code",
   "execution_count": 24,
   "metadata": {},
   "outputs": [
    {
     "data": {
      "text/plain": [
       "108    2\n",
       "130    3\n",
       "16     1\n",
       "49     1\n",
       "69     2\n",
       "14     1\n",
       "65     2\n",
       "96     2\n",
       "176    3\n",
       "32     1\n",
       "107    2\n",
       "103    2\n",
       "75     2\n",
       "70     2\n",
       "111    2\n",
       "98     2\n",
       "155    3\n",
       "61     2\n",
       "146    3\n",
       "159    3\n",
       "73     2\n",
       "116    2\n",
       "100    2\n",
       "71     2\n",
       "82     2\n",
       "90     2\n",
       "76     2\n",
       "172    3\n",
       "50     1\n",
       "51     1\n",
       "15     1\n",
       "97     2\n",
       "160    3\n",
       "175    3\n",
       "31     1\n",
       "95     2\n",
       "148    3\n",
       "91     2\n",
       "152    3\n",
       "145    3\n",
       "60     2\n",
       "163    3\n",
       "174    3\n",
       "131    3\n",
       "99     2\n",
       "Name: wine_type, dtype: int64"
      ]
     },
     "execution_count": 24,
     "metadata": {},
     "output_type": "execute_result"
    }
   ],
   "source": [
    "wine_labels_test"
   ]
  },
  {
   "cell_type": "markdown",
   "metadata": {},
   "source": [
    "And let's cross-validate again. Let's only run it four times."
   ]
  },
  {
   "cell_type": "code",
   "execution_count": 25,
   "metadata": {},
   "outputs": [
    {
     "data": {
      "text/plain": [
       "array([0.82222222, 0.86666667, 0.88888889, 0.88372093])"
      ]
     },
     "execution_count": 25,
     "metadata": {},
     "output_type": "execute_result"
    }
   ],
   "source": [
    "cross_val_score(tree, wine_data, wine_labels, cv=4)"
   ]
  },
  {
   "cell_type": "markdown",
   "metadata": {},
   "source": [
    "This model is a much better fit for our dataset, and is much more accurate than k-nearest neighbors.\n",
    "\n",
    "## Lesson: classification with decision trees!"
   ]
  },
  {
   "cell_type": "code",
   "execution_count": 26,
   "metadata": {},
   "outputs": [],
   "source": [
    "# We're going to be using scikit-learn's built in datasets for this.\n",
    "\n",
    "from sklearn.datasets import load_digits\n",
    "\n",
    "digits = load_digits()\n",
    "digits_data = digits.data\n",
    "digits_labels = digits.target\n",
    "\n",
    "# Once again, split the data into training and test sets.\n",
    "digits_data_train, digits_data_test, digits_labels_train, digits_labels_test = train_test_split(digits_data, digits_labels)"
   ]
  },
  {
   "cell_type": "code",
   "execution_count": 27,
   "metadata": {},
   "outputs": [
    {
     "data": {
      "text/plain": [
       "DecisionTreeClassifier(class_weight=None, criterion='gini', max_depth=None,\n",
       "                       max_features=None, max_leaf_nodes=None,\n",
       "                       min_impurity_decrease=0.0, min_impurity_split=None,\n",
       "                       min_samples_leaf=1, min_samples_split=2,\n",
       "                       min_weight_fraction_leaf=0.0, presort=False,\n",
       "                       random_state=None, splitter='best')"
      ]
     },
     "execution_count": 27,
     "metadata": {},
     "output_type": "execute_result"
    }
   ],
   "source": [
    "# Fit the model to our data.\n",
    "tree_dig = DecisionTreeClassifier()\n",
    "tree_dig.fit(digits_data_train,digits_labels_train)"
   ]
  },
  {
   "cell_type": "code",
   "execution_count": 28,
   "metadata": {},
   "outputs": [
    {
     "data": {
      "text/plain": [
       "array([6, 3, 7, 6, 9, 4, 8, 3, 9, 8, 0, 6, 6, 9, 7, 0, 8, 0, 7, 7, 0, 9,\n",
       "       4, 9, 1, 9, 1, 3, 0, 5, 8, 9, 7, 8, 2, 1, 9, 2, 7, 2, 2, 1, 9, 1,\n",
       "       0, 1, 6, 9, 0, 5, 3, 5, 1, 4, 7, 2, 0, 5, 4, 3, 7, 1, 5, 7, 9, 7,\n",
       "       5, 1, 7, 7, 8, 3, 2, 4, 0, 8, 0, 9, 2, 4, 8, 3, 1, 2, 8, 8, 0, 3,\n",
       "       1, 0, 6, 9, 8, 6, 3, 1, 2, 0, 0, 2, 9, 5, 5, 1, 9, 1, 9, 4, 7, 6,\n",
       "       9, 8, 5, 8, 4, 4, 9, 5, 3, 4, 7, 9, 8, 1, 5, 3, 9, 0, 7, 1, 0, 7,\n",
       "       2, 0, 9, 1, 3, 1, 0, 5, 7, 4, 7, 6, 6, 0, 7, 0, 6, 3, 0, 3, 7, 5,\n",
       "       9, 6, 8, 0, 0, 5, 3, 1, 7, 0, 4, 9, 7, 5, 3, 3, 6, 4, 4, 0, 0, 4,\n",
       "       5, 4, 1, 8, 4, 7, 6, 2, 9, 6, 0, 3, 9, 3, 4, 9, 4, 2, 8, 9, 3, 7,\n",
       "       7, 8, 7, 4, 8, 9, 8, 5, 6, 7, 4, 9, 6, 2, 2, 5, 4, 9, 8, 0, 2, 1,\n",
       "       1, 5, 6, 8, 4, 1, 4, 3, 8, 8, 1, 6, 1, 2, 2, 5, 4, 6, 6, 9, 4, 3,\n",
       "       7, 8, 6, 3, 5, 5, 2, 1, 2, 3, 8, 4, 4, 3, 4, 5, 8, 4, 0, 6, 1, 3,\n",
       "       1, 6, 7, 0, 8, 7, 9, 9, 1, 7, 7, 4, 9, 2, 6, 7, 6, 6, 0, 2, 8, 8,\n",
       "       2, 2, 7, 0, 0, 4, 0, 9, 6, 5, 4, 5, 8, 9, 8, 7, 9, 3, 1, 1, 7, 1,\n",
       "       9, 8, 3, 4, 4, 9, 6, 3, 0, 6, 4, 2, 2, 7, 3, 8, 7, 1, 5, 3, 2, 9,\n",
       "       9, 1, 9, 5, 6, 9, 0, 0, 3, 6, 9, 9, 0, 4, 0, 0, 6, 9, 8, 6, 0, 3,\n",
       "       8, 3, 5, 6, 4, 2, 6, 6, 1, 5, 6, 7, 3, 2, 5, 0, 2, 3, 1, 8, 0, 6,\n",
       "       2, 8, 9, 0, 4, 9, 4, 8, 4, 2, 2, 7, 6, 0, 4, 9, 0, 4, 7, 8, 8, 6,\n",
       "       2, 9, 7, 3, 2, 4, 7, 3, 4, 6, 5, 5, 0, 8, 0, 9, 1, 7, 3, 5, 7, 6,\n",
       "       4, 0, 8, 2, 6, 9, 3, 0, 9, 4, 0, 0, 9, 5, 1, 4, 9, 9, 1, 9, 6, 1,\n",
       "       8, 1, 7, 7, 5, 5, 2, 7, 4, 5])"
      ]
     },
     "execution_count": 28,
     "metadata": {},
     "output_type": "execute_result"
    }
   ],
   "source": [
    "# Predict on the test set\n",
    "tree_dig.predict(digits_data_test)"
   ]
  },
  {
   "cell_type": "code",
   "execution_count": 29,
   "metadata": {},
   "outputs": [
    {
     "data": {
      "text/plain": [
       "array([6, 3, 7, 6, 9, 4, 8, 3, 9, 8, 0, 6, 6, 4, 7, 0, 2, 0, 7, 7, 0, 9,\n",
       "       4, 9, 1, 9, 9, 3, 0, 5, 8, 9, 7, 2, 2, 2, 9, 2, 7, 2, 2, 1, 9, 8,\n",
       "       0, 1, 6, 3, 0, 5, 8, 5, 1, 3, 7, 2, 6, 5, 4, 8, 7, 1, 5, 7, 9, 7,\n",
       "       4, 1, 7, 7, 8, 3, 9, 4, 0, 2, 0, 9, 2, 4, 8, 4, 1, 2, 8, 8, 0, 3,\n",
       "       1, 0, 6, 9, 3, 6, 3, 1, 2, 0, 0, 2, 9, 5, 5, 1, 9, 1, 1, 4, 7, 6,\n",
       "       9, 8, 5, 8, 4, 7, 9, 5, 3, 4, 7, 9, 8, 1, 5, 3, 9, 0, 7, 1, 0, 9,\n",
       "       2, 0, 9, 1, 3, 1, 0, 5, 7, 4, 7, 6, 6, 4, 7, 0, 6, 0, 0, 3, 7, 5,\n",
       "       9, 6, 8, 0, 0, 5, 3, 1, 7, 0, 4, 9, 9, 5, 9, 3, 6, 4, 4, 0, 0, 4,\n",
       "       3, 4, 1, 7, 4, 7, 6, 2, 9, 6, 0, 3, 9, 3, 4, 1, 4, 2, 2, 9, 3, 7,\n",
       "       7, 8, 7, 4, 1, 9, 8, 5, 6, 7, 4, 9, 2, 2, 2, 5, 4, 9, 8, 0, 2, 1,\n",
       "       1, 5, 6, 2, 4, 1, 4, 3, 8, 8, 1, 6, 1, 2, 2, 5, 4, 5, 6, 9, 4, 3,\n",
       "       4, 8, 6, 3, 5, 5, 2, 1, 2, 3, 8, 4, 4, 2, 4, 5, 2, 4, 0, 6, 1, 3,\n",
       "       1, 3, 7, 0, 8, 7, 8, 9, 1, 7, 7, 4, 9, 2, 6, 7, 6, 6, 0, 2, 9, 8,\n",
       "       2, 2, 4, 0, 0, 4, 0, 9, 6, 5, 4, 5, 8, 9, 8, 7, 9, 8, 1, 1, 7, 1,\n",
       "       9, 9, 3, 4, 4, 3, 6, 3, 0, 6, 4, 2, 3, 7, 9, 3, 7, 9, 5, 1, 2, 9,\n",
       "       9, 1, 3, 5, 6, 9, 0, 0, 3, 6, 9, 9, 0, 4, 0, 0, 6, 9, 1, 2, 0, 3,\n",
       "       8, 3, 5, 6, 4, 2, 6, 6, 1, 5, 3, 9, 3, 2, 5, 0, 8, 2, 1, 8, 0, 6,\n",
       "       2, 8, 9, 0, 4, 9, 4, 8, 4, 2, 2, 7, 5, 0, 4, 1, 0, 4, 7, 2, 8, 6,\n",
       "       2, 9, 7, 3, 2, 4, 7, 3, 4, 6, 5, 4, 0, 8, 0, 9, 1, 4, 3, 4, 7, 6,\n",
       "       4, 0, 8, 2, 6, 1, 3, 0, 5, 7, 0, 0, 9, 5, 1, 4, 9, 9, 1, 9, 6, 8,\n",
       "       9, 8, 3, 7, 5, 5, 2, 7, 4, 5])"
      ]
     },
     "execution_count": 29,
     "metadata": {},
     "output_type": "execute_result"
    }
   ],
   "source": [
    "# Look at the test set labels\n",
    "digits_labels_test"
   ]
  },
  {
   "cell_type": "code",
   "execution_count": 30,
   "metadata": {},
   "outputs": [
    {
     "data": {
      "text/plain": [
       "array([0.73684211, 0.8021978 , 0.76404494, 0.70454545, 0.74712644])"
      ]
     },
     "execution_count": 30,
     "metadata": {},
     "output_type": "execute_result"
    }
   ],
   "source": [
    "# Finally, cross-validate\n",
    "cross_val_score(tree_dig, digits_data_test, digits_labels_test, cv = 5)"
   ]
  },
  {
   "cell_type": "markdown",
   "metadata": {},
   "source": [
    "## Naive Bayes\n",
    "\n",
    "The Naive Bayes classifier is a probabilistic classifier based on Bayes' Theorem, which states that the probability of *A* given the probability of *B* is equal to the probability of *B* given *A* times the probability of *A*, divided by the probability of *B*. In Naive Bayes classification, the classifier assumes that the features in your dataset are independent of each other; that is, one feature being a certain way has no effect on what values the other features take. This is a naive assumption because this doesn't always hold true in reality, but despite this naivety and oversimplified assumptions, the classifier performs decently and even quite well in certain classification situations.\n",
    "\n",
    "The Naive Bayes classifier is useful when your features are independent and your data is normally distributed. More sophisticated methods generally perform better.\n",
    "\n",
    "### Classifying in scikit-learn: Naive Bayes\n",
    "\n",
    "Just as we did the first two times, let's do it again. We're going to use the GaussianNB estimator object, because our data is for the most part normally distributed. We're also going to use the same wine training and test sets we made earlier."
   ]
  },
  {
   "cell_type": "code",
   "execution_count": 31,
   "metadata": {},
   "outputs": [
    {
     "data": {
      "text/plain": [
       "array([2, 3, 1, 1, 2, 1, 2, 2, 3, 1, 2, 2, 2, 3, 2, 2, 3, 3, 3, 3, 1, 2,\n",
       "       2, 2, 2, 2, 2, 3, 1, 1, 1, 2, 3, 3, 1, 2, 3, 2, 3, 3, 2, 3, 3, 3,\n",
       "       2], dtype=int64)"
      ]
     },
     "execution_count": 31,
     "metadata": {},
     "output_type": "execute_result"
    }
   ],
   "source": [
    "from sklearn.naive_bayes import GaussianNB\n",
    "\n",
    "gnb = GaussianNB()\n",
    "gnb.fit(wine_data_train, wine_labels_train)\n",
    "gnb.predict(wine_data_test)"
   ]
  },
  {
   "cell_type": "markdown",
   "metadata": {},
   "source": [
    "Well, that was easy! Let's look at the real test labels again."
   ]
  },
  {
   "cell_type": "code",
   "execution_count": 32,
   "metadata": {},
   "outputs": [
    {
     "data": {
      "text/plain": [
       "108    2\n",
       "130    3\n",
       "16     1\n",
       "49     1\n",
       "69     2\n",
       "14     1\n",
       "65     2\n",
       "96     2\n",
       "176    3\n",
       "32     1\n",
       "107    2\n",
       "103    2\n",
       "75     2\n",
       "70     2\n",
       "111    2\n",
       "98     2\n",
       "155    3\n",
       "61     2\n",
       "146    3\n",
       "159    3\n",
       "73     2\n",
       "116    2\n",
       "100    2\n",
       "71     2\n",
       "82     2\n",
       "90     2\n",
       "76     2\n",
       "172    3\n",
       "50     1\n",
       "51     1\n",
       "15     1\n",
       "97     2\n",
       "160    3\n",
       "175    3\n",
       "31     1\n",
       "95     2\n",
       "148    3\n",
       "91     2\n",
       "152    3\n",
       "145    3\n",
       "60     2\n",
       "163    3\n",
       "174    3\n",
       "131    3\n",
       "99     2\n",
       "Name: wine_type, dtype: int64"
      ]
     },
     "execution_count": 32,
     "metadata": {},
     "output_type": "execute_result"
    }
   ],
   "source": [
    "wine_labels_test"
   ]
  },
  {
   "cell_type": "markdown",
   "metadata": {},
   "source": [
    "And of course, let's cross-validate to see how well we did. Let's only run it four times."
   ]
  },
  {
   "cell_type": "code",
   "execution_count": 33,
   "metadata": {},
   "outputs": [
    {
     "data": {
      "text/plain": [
       "array([0.91111111, 0.95555556, 0.97777778, 1.        ])"
      ]
     },
     "execution_count": 33,
     "metadata": {},
     "output_type": "execute_result"
    }
   ],
   "source": [
    "cross_val_score(gnb, wine_data, wine_labels, cv=4)"
   ]
  },
  {
   "cell_type": "markdown",
   "metadata": {},
   "source": [
    "Wow! This classifier does much better on this dataset."
   ]
  },
  {
   "cell_type": "markdown",
   "metadata": {},
   "source": [
    "## Lesson: classification with Naive Bayes!"
   ]
  },
  {
   "cell_type": "code",
   "execution_count": 34,
   "metadata": {},
   "outputs": [],
   "source": [
    "# We're going to be using scikit-learn's built in datasets for this.\n",
    "\n",
    "from sklearn.datasets import load_digits\n",
    "\n",
    "digits = load_digits()\n",
    "digits_data = digits.data\n",
    "digits_labels = digits.target\n",
    "\n",
    "# Once again, split the data into training and test sets.\n",
    "digits_data_train, digits_data_test, digits_labels_train, digits_labels_test = train_test_split(digits_data, digits_labels)"
   ]
  },
  {
   "cell_type": "code",
   "execution_count": 36,
   "metadata": {},
   "outputs": [
    {
     "data": {
      "text/plain": [
       "GaussianNB(priors=None, var_smoothing=1e-09)"
      ]
     },
     "execution_count": 36,
     "metadata": {},
     "output_type": "execute_result"
    }
   ],
   "source": [
    "# Fit the model to our data.\n",
    "gnb_dig = GaussianNB()\n",
    "gnb_dig.fit(digits_data_train,digits_labels_train)"
   ]
  },
  {
   "cell_type": "code",
   "execution_count": 37,
   "metadata": {},
   "outputs": [
    {
     "data": {
      "text/plain": [
       "array([4, 0, 7, 9, 7, 2, 5, 5, 4, 0, 8, 1, 4, 3, 5, 8, 5, 0, 8, 6, 9, 0,\n",
       "       8, 5, 6, 4, 7, 2, 2, 2, 9, 3, 2, 5, 0, 8, 5, 8, 2, 7, 3, 4, 7, 8,\n",
       "       0, 8, 3, 5, 5, 7, 4, 1, 1, 7, 3, 5, 7, 2, 5, 5, 5, 5, 8, 1, 4, 3,\n",
       "       1, 8, 8, 1, 8, 3, 0, 4, 1, 4, 3, 4, 7, 3, 7, 0, 4, 0, 6, 0, 4, 5,\n",
       "       3, 6, 3, 6, 2, 8, 0, 8, 6, 1, 7, 5, 1, 5, 8, 6, 8, 0, 6, 4, 2, 3,\n",
       "       9, 1, 5, 3, 7, 3, 8, 7, 5, 3, 7, 5, 8, 2, 2, 6, 7, 8, 3, 6, 8, 7,\n",
       "       0, 6, 4, 1, 7, 0, 1, 9, 8, 3, 3, 6, 4, 7, 3, 2, 8, 4, 0, 5, 3, 7,\n",
       "       5, 1, 4, 5, 3, 6, 6, 8, 1, 6, 7, 3, 5, 2, 5, 4, 5, 8, 6, 0, 9, 5,\n",
       "       7, 1, 6, 0, 8, 7, 1, 9, 7, 3, 5, 6, 8, 5, 8, 1, 7, 5, 3, 4, 8, 1,\n",
       "       5, 3, 4, 0, 2, 4, 5, 3, 8, 4, 8, 6, 1, 1, 9, 1, 8, 4, 7, 1, 2, 3,\n",
       "       8, 3, 3, 1, 1, 9, 6, 7, 7, 6, 5, 7, 8, 8, 7, 5, 5, 8, 7, 8, 7, 0,\n",
       "       0, 3, 5, 8, 7, 8, 6, 2, 2, 1, 6, 1, 8, 4, 7, 6, 3, 7, 3, 3, 6, 9,\n",
       "       2, 8, 0, 8, 7, 2, 3, 9, 1, 4, 3, 3, 8, 8, 6, 6, 3, 0, 7, 0, 8, 1,\n",
       "       8, 4, 1, 7, 7, 2, 0, 7, 5, 7, 8, 0, 5, 7, 1, 4, 6, 5, 3, 8, 8, 6,\n",
       "       6, 8, 5, 4, 6, 2, 0, 2, 0, 9, 8, 8, 8, 9, 3, 9, 8, 5, 9, 6, 7, 4,\n",
       "       6, 4, 5, 9, 6, 2, 6, 9, 3, 3, 2, 7, 3, 6, 8, 4, 6, 6, 5, 6, 3, 5,\n",
       "       0, 4, 1, 7, 5, 2, 4, 8, 1, 7, 0, 1, 6, 7, 5, 1, 8, 8, 9, 5, 3, 3,\n",
       "       9, 3, 1, 5, 2, 8, 7, 3, 4, 5, 0, 3, 8, 9, 3, 2, 5, 3, 6, 0, 3, 7,\n",
       "       0, 3, 4, 0, 0, 0, 3, 9, 9, 6, 0, 2, 0, 8, 6, 7, 1, 9, 2, 1, 0, 1,\n",
       "       7, 7, 1, 3, 3, 1, 4, 5, 9, 2, 1, 5, 2, 9, 6, 1, 3, 7, 8, 1, 1, 1,\n",
       "       7, 4, 9, 8, 1, 4, 5, 0, 1, 9])"
      ]
     },
     "execution_count": 37,
     "metadata": {},
     "output_type": "execute_result"
    }
   ],
   "source": [
    "# Predict on the test set\n",
    "\n",
    "gnb_dig.predict(digits_data_test)"
   ]
  },
  {
   "cell_type": "code",
   "execution_count": 38,
   "metadata": {},
   "outputs": [
    {
     "data": {
      "text/plain": [
       "array([4, 0, 7, 9, 7, 2, 5, 5, 4, 0, 8, 1, 4, 3, 5, 2, 5, 0, 8, 6, 9, 0,\n",
       "       2, 5, 6, 4, 7, 2, 2, 2, 9, 3, 2, 5, 0, 8, 5, 2, 2, 7, 3, 4, 8, 8,\n",
       "       0, 3, 3, 5, 5, 7, 4, 1, 2, 9, 3, 5, 7, 2, 9, 5, 5, 5, 1, 1, 9, 9,\n",
       "       1, 8, 9, 1, 2, 3, 0, 4, 1, 4, 3, 4, 7, 3, 7, 0, 4, 0, 6, 0, 4, 5,\n",
       "       3, 6, 3, 6, 2, 8, 0, 8, 6, 2, 7, 5, 1, 5, 8, 6, 8, 0, 6, 4, 9, 3,\n",
       "       9, 1, 5, 3, 7, 3, 2, 9, 5, 3, 7, 5, 8, 2, 2, 6, 7, 5, 3, 1, 8, 7,\n",
       "       0, 6, 4, 1, 8, 0, 1, 9, 1, 3, 3, 6, 4, 7, 3, 2, 8, 4, 0, 5, 3, 8,\n",
       "       3, 1, 4, 5, 3, 6, 6, 8, 1, 6, 7, 3, 5, 2, 5, 4, 5, 1, 6, 0, 9, 5,\n",
       "       7, 1, 6, 0, 8, 7, 1, 9, 3, 3, 3, 6, 3, 5, 8, 1, 7, 5, 3, 4, 8, 2,\n",
       "       5, 3, 4, 0, 3, 4, 3, 2, 8, 9, 2, 6, 1, 4, 9, 1, 8, 4, 7, 1, 2, 3,\n",
       "       8, 3, 3, 1, 1, 9, 6, 7, 4, 6, 5, 7, 8, 8, 7, 5, 5, 9, 7, 8, 7, 0,\n",
       "       0, 3, 5, 8, 7, 8, 1, 2, 1, 1, 6, 1, 8, 4, 7, 6, 3, 5, 3, 3, 6, 9,\n",
       "       2, 8, 0, 4, 7, 2, 3, 9, 1, 9, 3, 3, 8, 2, 6, 6, 9, 0, 4, 0, 8, 1,\n",
       "       1, 4, 1, 7, 7, 2, 0, 8, 5, 7, 8, 0, 5, 7, 2, 4, 6, 5, 3, 2, 8, 6,\n",
       "       6, 2, 5, 4, 6, 2, 0, 2, 0, 9, 9, 8, 8, 9, 3, 9, 8, 5, 9, 6, 7, 4,\n",
       "       6, 4, 5, 9, 6, 2, 6, 9, 3, 3, 2, 7, 3, 6, 2, 4, 6, 6, 5, 6, 3, 5,\n",
       "       0, 4, 2, 4, 5, 2, 4, 8, 1, 7, 0, 1, 6, 9, 5, 1, 8, 8, 9, 5, 3, 3,\n",
       "       9, 3, 9, 5, 2, 1, 7, 3, 4, 5, 0, 3, 8, 9, 3, 3, 5, 9, 6, 0, 3, 7,\n",
       "       0, 3, 4, 0, 0, 0, 3, 9, 9, 6, 0, 2, 0, 1, 6, 7, 1, 9, 2, 1, 0, 1,\n",
       "       9, 7, 1, 3, 3, 1, 4, 5, 9, 2, 1, 5, 2, 9, 6, 9, 3, 7, 8, 1, 1, 1,\n",
       "       7, 4, 9, 2, 1, 4, 5, 0, 1, 9])"
      ]
     },
     "execution_count": 38,
     "metadata": {},
     "output_type": "execute_result"
    }
   ],
   "source": [
    "# Look at the test set labels\n",
    "\n",
    "digits_labels_test"
   ]
  },
  {
   "cell_type": "code",
   "execution_count": 40,
   "metadata": {},
   "outputs": [
    {
     "data": {
      "text/plain": [
       "array([0.80263158, 0.86754967, 0.74333333, 0.83892617, 0.88215488,\n",
       "       0.80067568])"
      ]
     },
     "execution_count": 40,
     "metadata": {},
     "output_type": "execute_result"
    }
   ],
   "source": [
    "# Finally, cross-validate\n",
    "\n",
    "cross_val_score(gnb_dig, digits_data, digits_labels, cv=6)"
   ]
  },
  {
   "cell_type": "markdown",
   "metadata": {},
   "source": [
    "## Linear regression\n",
    "\n",
    "Linear regression is used when the target value is expected to be a linear combination of the input variables. The goal of linear regression, in creating a linear model, is to minimize the sum of squared residuals between the observed data and the responses predicted by linear approximation. Linear regression can be used to represent the relationship between variables like temperature and elevation, or something like housing prices and square footage.\n",
    "\n",
    "Linear regression is appropriate when your data is continuous and linear.\n",
    "\n",
    "### Linear regression in scikit-learn\n",
    "\n",
    "Let's try this on subset of our wine data, since those values are continuous other than `wine_type`. Let's see what the relationship is between magnesium and abv. First, let's subset the data."
   ]
  },
  {
   "cell_type": "code",
   "execution_count": 41,
   "metadata": {},
   "outputs": [
    {
     "data": {
      "text/html": [
       "<div>\n",
       "<style scoped>\n",
       "    .dataframe tbody tr th:only-of-type {\n",
       "        vertical-align: middle;\n",
       "    }\n",
       "\n",
       "    .dataframe tbody tr th {\n",
       "        vertical-align: top;\n",
       "    }\n",
       "\n",
       "    .dataframe thead th {\n",
       "        text-align: right;\n",
       "    }\n",
       "</style>\n",
       "<table border=\"1\" class=\"dataframe\">\n",
       "  <thead>\n",
       "    <tr style=\"text-align: right;\">\n",
       "      <th></th>\n",
       "      <th>magnesium</th>\n",
       "      <th>color</th>\n",
       "    </tr>\n",
       "  </thead>\n",
       "  <tbody>\n",
       "    <tr>\n",
       "      <td>0</td>\n",
       "      <td>127</td>\n",
       "      <td>5.64</td>\n",
       "    </tr>\n",
       "    <tr>\n",
       "      <td>1</td>\n",
       "      <td>100</td>\n",
       "      <td>4.38</td>\n",
       "    </tr>\n",
       "    <tr>\n",
       "      <td>2</td>\n",
       "      <td>101</td>\n",
       "      <td>5.68</td>\n",
       "    </tr>\n",
       "    <tr>\n",
       "      <td>3</td>\n",
       "      <td>113</td>\n",
       "      <td>7.80</td>\n",
       "    </tr>\n",
       "    <tr>\n",
       "      <td>4</td>\n",
       "      <td>118</td>\n",
       "      <td>4.32</td>\n",
       "    </tr>\n",
       "  </tbody>\n",
       "</table>\n",
       "</div>"
      ],
      "text/plain": [
       "   magnesium  color\n",
       "0        127   5.64\n",
       "1        100   4.38\n",
       "2        101   5.68\n",
       "3        113   7.80\n",
       "4        118   4.32"
      ]
     },
     "execution_count": 41,
     "metadata": {},
     "output_type": "execute_result"
    }
   ],
   "source": [
    "wine_data_mag = wine_data.loc[:, ['magnesium', 'color']]\n",
    "wine_data_abv = wine_data.loc[:, 'abv']\n",
    "wine_data_mag.head()"
   ]
  },
  {
   "cell_type": "markdown",
   "metadata": {},
   "source": [
    "And, as always, let's split up the data. Our target values are going to be the continuous abv values."
   ]
  },
  {
   "cell_type": "code",
   "execution_count": 42,
   "metadata": {},
   "outputs": [],
   "source": [
    "wine_mag_train, wine_mag_test, wine_abv_train, wine_abv_test = train_test_split(wine_data_mag, wine_data_abv)"
   ]
  },
  {
   "cell_type": "markdown",
   "metadata": {},
   "source": [
    "Then, we fit the model to our data."
   ]
  },
  {
   "cell_type": "code",
   "execution_count": 43,
   "metadata": {},
   "outputs": [
    {
     "data": {
      "text/plain": [
       "LinearRegression(copy_X=True, fit_intercept=True, n_jobs=None, normalize=False)"
      ]
     },
     "execution_count": 43,
     "metadata": {},
     "output_type": "execute_result"
    }
   ],
   "source": [
    "from sklearn.linear_model import LinearRegression\n",
    "\n",
    "lr = LinearRegression()\n",
    "lr.fit(wine_mag_train, wine_abv_train)"
   ]
  },
  {
   "cell_type": "markdown",
   "metadata": {},
   "source": [
    "And finally, we predict."
   ]
  },
  {
   "cell_type": "code",
   "execution_count": 44,
   "metadata": {},
   "outputs": [
    {
     "data": {
      "text/plain": [
       "array([13.26046974, 12.71740762, 12.61683042, 12.63710924, 13.09294186,\n",
       "       12.95079219, 13.66130302, 12.37402439, 12.50191951, 12.52328155,\n",
       "       13.05907785, 13.10901736, 13.90748467, 12.90391518, 13.04989389,\n",
       "       12.72589341, 13.12594937, 13.8337322 , 12.90015451, 13.17845837,\n",
       "       12.86056133, 13.15226325, 12.37506802, 13.3357083 , 12.48231005,\n",
       "       12.66286172, 13.15690921, 12.42649382, 14.18809172, 12.79019544,\n",
       "       12.92891913, 13.44138489, 12.7937006 , 12.82312379, 12.34191296,\n",
       "       13.09937998, 13.0422646 , 13.71715885, 13.06079084, 13.43803807,\n",
       "       13.05138017, 12.72484978, 12.46117474, 12.39300407, 12.50768827])"
      ]
     },
     "execution_count": 44,
     "metadata": {},
     "output_type": "execute_result"
    }
   ],
   "source": [
    "lr.predict(wine_mag_test)"
   ]
  },
  {
   "cell_type": "markdown",
   "metadata": {},
   "source": [
    "Let's compare those predictions to the actual abv values."
   ]
  },
  {
   "cell_type": "code",
   "execution_count": 45,
   "metadata": {},
   "outputs": [
    {
     "data": {
      "text/plain": [
       "16     14.30\n",
       "81     12.72\n",
       "70     12.29\n",
       "94     11.62\n",
       "132    12.81\n",
       "66     13.11\n",
       "169    13.40\n",
       "82     12.08\n",
       "125    12.07\n",
       "85     12.67\n",
       "138    13.49\n",
       "61     12.64\n",
       "167    12.82\n",
       "4      13.24\n",
       "7      14.06\n",
       "62     13.67\n",
       "10     14.10\n",
       "171    12.77\n",
       "28     13.87\n",
       "20     14.06\n",
       "43     13.24\n",
       "33     13.76\n",
       "103    11.82\n",
       "5      14.20\n",
       "87     11.65\n",
       "68     13.34\n",
       "161    13.69\n",
       "99     12.29\n",
       "159    13.48\n",
       "145    13.16\n",
       "36     13.28\n",
       "14     14.38\n",
       "78     12.33\n",
       "63     12.37\n",
       "115    11.03\n",
       "2      13.16\n",
       "19     13.64\n",
       "150    13.50\n",
       "51     13.83\n",
       "15     13.63\n",
       "45     14.21\n",
       "126    12.43\n",
       "86     12.16\n",
       "128    12.37\n",
       "105    12.42\n",
       "Name: abv, dtype: float64"
      ]
     },
     "execution_count": 45,
     "metadata": {},
     "output_type": "execute_result"
    }
   ],
   "source": [
    "wine_abv_test"
   ]
  },
  {
   "cell_type": "markdown",
   "metadata": {},
   "source": [
    "We can check the accuracy of our linear regression model by using the `score()` function. The `score()` function returns the R^2 coefficient, which is a measure of how far away from the actual values are predictions were. The closer to 1, the better the regression model"
   ]
  },
  {
   "cell_type": "code",
   "execution_count": 46,
   "metadata": {},
   "outputs": [
    {
     "data": {
      "text/plain": [
       "0.3427612890310421"
      ]
     },
     "execution_count": 46,
     "metadata": {},
     "output_type": "execute_result"
    }
   ],
   "source": [
    "lr.score(wine_mag_test, wine_abv_test)"
   ]
  },
  {
   "cell_type": "markdown",
   "metadata": {},
   "source": [
    "So our score is rather low.\n",
    "\n",
    "## Lesson: linear regression!"
   ]
  },
  {
   "cell_type": "code",
   "execution_count": 48,
   "metadata": {},
   "outputs": [],
   "source": [
    "# We're going to be using scikit-learn's built in datasets for this.\n",
    "\n",
    "from sklearn.datasets import load_boston\n",
    "\n",
    "boston = load_boston()\n",
    "boston_data = boston.data\n",
    "boston_target = boston.target\n",
    "\n",
    "# Once again, split the data into training and test sets.\n",
    "bos_data_train,bos_data_test,bos_lab_train,bos_lab_test = train_test_split(boston_data,boston_target)"
   ]
  },
  {
   "cell_type": "code",
   "execution_count": 50,
   "metadata": {},
   "outputs": [
    {
     "data": {
      "text/plain": [
       "LinearRegression(copy_X=True, fit_intercept=True, n_jobs=None, normalize=False)"
      ]
     },
     "execution_count": 50,
     "metadata": {},
     "output_type": "execute_result"
    }
   ],
   "source": [
    "# Create a new linear regression model and fit the model to our data.\n",
    "\n",
    "bos_lin = LinearRegression()\n",
    "bos_lin.fit(bos_data_train,bos_lab_train)"
   ]
  },
  {
   "cell_type": "code",
   "execution_count": 51,
   "metadata": {},
   "outputs": [
    {
     "data": {
      "text/plain": [
       "array([22.28502849, 21.75700783, 34.4104251 , 15.47858994, 27.04689453,\n",
       "       28.02686714,  7.79026531, 20.40351102, 31.53532666, 19.01320878,\n",
       "       32.70306266, 27.97416082, 13.62024075,  8.13362226, 27.39566353,\n",
       "       20.17345025, 20.78995957, 32.81369055, 12.75294872, 18.15460321,\n",
       "       18.83151232,  6.0590056 , 25.03510294, 26.06117437, 20.57150643,\n",
       "       17.94756574, 14.36323124, 21.4104551 , 17.30213358, 11.05413495,\n",
       "       19.21042676, 17.5371686 , 24.9050499 ,  4.32674569, 21.36209793,\n",
       "       11.78852602, 26.97630031,  7.09935701, 25.58767687, 22.68558067,\n",
       "       22.28981501, 23.47519754, 25.16280671, 13.59449938, 17.22889689,\n",
       "       13.54074922, 24.39211268, 35.77400486, 17.59807393,  8.37581644,\n",
       "       21.16940824, 22.63268516, 20.75147702, 15.11845439, 16.51029876,\n",
       "       37.68201427, 19.97264644, 20.00012241, 40.79694689, 18.07854791,\n",
       "       16.44712564, 38.01697837, 20.11287825, 20.55526437, 14.24706312,\n",
       "       32.58023599, 17.33641318, 21.527699  , 21.19547883, 22.17401719,\n",
       "       27.60392525, 25.85762232, 28.57510468, 32.03808331, 25.41543272,\n",
       "       20.60772842, 28.34465022, 19.48534807, 25.1672494 , 22.77301346,\n",
       "       20.83908377, 15.95441843, 20.05600355, 24.54441077, 24.26073605,\n",
       "       18.52748979, 20.91196262, 25.16819575, 28.74503469, 19.74930747,\n",
       "       27.41375383, 42.22269402, 18.07940533, 16.35710048, 20.98064676,\n",
       "       17.28085071,  9.61192129, 15.58720209, 23.6698592 ,  3.66393054,\n",
       "       13.62566579, 25.2624216 , 20.11766486, 32.78265454, 23.26650553,\n",
       "       14.14372126, 16.56588872, 13.21009696, 21.80169303, 29.30071347,\n",
       "       36.39987492, 16.3064059 , 23.60749982, 20.51484637, 15.9792424 ,\n",
       "       19.72279726, 19.31490295, 16.23555428, 10.79362034, 26.7470582 ,\n",
       "       24.4354213 , 22.82384605, 16.97448317, 23.85521187, 17.64546216,\n",
       "       26.0575799 , 19.43342621])"
      ]
     },
     "execution_count": 51,
     "metadata": {},
     "output_type": "execute_result"
    }
   ],
   "source": [
    "# Predict on the test set.\n",
    "\n",
    "bos_lin.predict(bos_data_test)"
   ]
  },
  {
   "cell_type": "code",
   "execution_count": 52,
   "metadata": {},
   "outputs": [
    {
     "data": {
      "text/plain": [
       "array([22.6, 22.4, 33.8, 21.9, 22.3, 23.7,  7.2, 18.3, 30.8, 27.1, 27. ,\n",
       "       36.2, 15.6, 17.8, 25. , 20.4, 16.7, 26.7, 12.8, 15.4, 14.5, 10.2,\n",
       "       27.5, 50. , 19.3, 10.4, 27.5, 21.2, 17.1, 12.7, 20.8, 22.5, 24.8,\n",
       "        8.4, 20.9, 12. , 22.1, 11.8, 23.3, 11.9, 16.1, 23. , 23.2,  8.3,\n",
       "       17.8, 14. , 24.6, 32.4, 18.7, 11.9, 18.7, 24.4, 27.9, 11.7, 20.6,\n",
       "       48.3, 19.4, 20.5, 50. , 15. , 13.1, 44. , 21.1, 19.3, 11. , 30.3,\n",
       "       10.2, 20.6, 18.9, 20. , 36.2, 25. , 28. , 31.1, 18.5, 13.1, 23.9,\n",
       "       17.1, 22.9, 23.2, 19. , 19.3, 16.7, 22.8, 23.1, 16.1, 22. , 24.2,\n",
       "       24.4, 24.3, 23.9, 50. , 13.9,  8.5, 20.4, 15.1, 23.7, 15.6, 19.6,\n",
       "        8.1, 13.5, 23.3, 21.5, 31.6, 33. , 13.1, 11.7, 13.9, 22.2, 24.1,\n",
       "       36. , 13.3, 24.4, 13.8, 23.1, 18.4, 20.6, 17.3, 13.8, 22. , 29.6,\n",
       "       21.4, 10.2, 20.5, 18.1, 24.8, 18. ])"
      ]
     },
     "execution_count": 52,
     "metadata": {},
     "output_type": "execute_result"
    }
   ],
   "source": [
    "# Take a look at the actual target values.\n",
    "\n",
    "bos_lab_test"
   ]
  },
  {
   "cell_type": "code",
   "execution_count": 53,
   "metadata": {},
   "outputs": [
    {
     "data": {
      "text/plain": [
       "0.6562758898180642"
      ]
     },
     "execution_count": 53,
     "metadata": {},
     "output_type": "execute_result"
    }
   ],
   "source": [
    "# Score the model!\n",
    "\n",
    "bos_lin.score(bos_data_test,bos_lab_test)"
   ]
  },
  {
   "cell_type": "markdown",
   "metadata": {},
   "source": [
    "# For those using IPython Notebook/Wakari/NBViewer: Go to the [data_analysis](data_analysis.ipynb) notebook!\n",
    "\n",
    "# For those using code files, go to data_analysis.py!"
   ]
  }
 ],
 "metadata": {
  "kernelspec": {
   "display_name": "Python 3",
   "language": "python",
   "name": "python3"
  },
  "language_info": {
   "codemirror_mode": {
    "name": "ipython",
    "version": 3
   },
   "file_extension": ".py",
   "mimetype": "text/x-python",
   "name": "python",
   "nbconvert_exporter": "python",
   "pygments_lexer": "ipython3",
   "version": "3.7.4"
  }
 },
 "nbformat": 4,
 "nbformat_minor": 1
}
