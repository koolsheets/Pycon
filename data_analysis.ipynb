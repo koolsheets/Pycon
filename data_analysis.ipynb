{
 "cells": [
  {
   "cell_type": "markdown",
   "metadata": {},
   "source": [
    "# Lesson: Let's preprocess the data!\n",
    "\n",
    "## File I/O and exploring the data"
   ]
  },
  {
   "cell_type": "code",
   "execution_count": 1,
   "metadata": {},
   "outputs": [
    {
     "data": {
      "text/html": [
       "<div>\n",
       "<style scoped>\n",
       "    .dataframe tbody tr th:only-of-type {\n",
       "        vertical-align: middle;\n",
       "    }\n",
       "\n",
       "    .dataframe tbody tr th {\n",
       "        vertical-align: top;\n",
       "    }\n",
       "\n",
       "    .dataframe thead th {\n",
       "        text-align: right;\n",
       "    }\n",
       "</style>\n",
       "<table border=\"1\" class=\"dataframe\">\n",
       "  <thead>\n",
       "    <tr style=\"text-align: right;\">\n",
       "      <th></th>\n",
       "      <th>age</th>\n",
       "      <th>work_class</th>\n",
       "      <th>education</th>\n",
       "      <th>education_num</th>\n",
       "      <th>marital_status</th>\n",
       "      <th>occupation</th>\n",
       "      <th>relationship</th>\n",
       "      <th>race</th>\n",
       "      <th>sex</th>\n",
       "      <th>hours_per_week</th>\n",
       "      <th>native_country</th>\n",
       "      <th>fifty_k</th>\n",
       "    </tr>\n",
       "  </thead>\n",
       "  <tbody>\n",
       "    <tr>\n",
       "      <td>0</td>\n",
       "      <td>47</td>\n",
       "      <td>Private</td>\n",
       "      <td>10th</td>\n",
       "      <td>6</td>\n",
       "      <td>Divorced</td>\n",
       "      <td>Exec-managerial</td>\n",
       "      <td>Not-in-family</td>\n",
       "      <td>Amer-Indian-Eskimo</td>\n",
       "      <td>Female</td>\n",
       "      <td>45</td>\n",
       "      <td>United-States</td>\n",
       "      <td>&lt;=50K</td>\n",
       "    </tr>\n",
       "    <tr>\n",
       "      <td>1</td>\n",
       "      <td>40</td>\n",
       "      <td>Private</td>\n",
       "      <td>10th</td>\n",
       "      <td>6</td>\n",
       "      <td>Divorced</td>\n",
       "      <td>Craft-repair</td>\n",
       "      <td>Not-in-family</td>\n",
       "      <td>Amer-Indian-Eskimo</td>\n",
       "      <td>Male</td>\n",
       "      <td>40</td>\n",
       "      <td>United-States</td>\n",
       "      <td>&lt;=50K</td>\n",
       "    </tr>\n",
       "    <tr>\n",
       "      <td>2</td>\n",
       "      <td>30</td>\n",
       "      <td>Private</td>\n",
       "      <td>10th</td>\n",
       "      <td>6</td>\n",
       "      <td>Divorced</td>\n",
       "      <td>Other-service</td>\n",
       "      <td>Not-in-family</td>\n",
       "      <td>Amer-Indian-Eskimo</td>\n",
       "      <td>Male</td>\n",
       "      <td>40</td>\n",
       "      <td>United-States</td>\n",
       "      <td>&lt;=50K</td>\n",
       "    </tr>\n",
       "    <tr>\n",
       "      <td>3</td>\n",
       "      <td>27</td>\n",
       "      <td>Private</td>\n",
       "      <td>10th</td>\n",
       "      <td>6</td>\n",
       "      <td>Divorced</td>\n",
       "      <td>Transport-moving</td>\n",
       "      <td>Not-in-family</td>\n",
       "      <td>Amer-Indian-Eskimo</td>\n",
       "      <td>Male</td>\n",
       "      <td>75</td>\n",
       "      <td>United-States</td>\n",
       "      <td>&lt;=50K</td>\n",
       "    </tr>\n",
       "    <tr>\n",
       "      <td>4</td>\n",
       "      <td>38</td>\n",
       "      <td>Private</td>\n",
       "      <td>10th</td>\n",
       "      <td>6</td>\n",
       "      <td>Divorced</td>\n",
       "      <td>Machine-op-inspct</td>\n",
       "      <td>Not-in-family</td>\n",
       "      <td>Asian-Pac-Islander</td>\n",
       "      <td>Female</td>\n",
       "      <td>40</td>\n",
       "      <td>Portugal</td>\n",
       "      <td>&lt;=50K</td>\n",
       "    </tr>\n",
       "  </tbody>\n",
       "</table>\n",
       "</div>"
      ],
      "text/plain": [
       "   age work_class education  education_num marital_status         occupation  \\\n",
       "0   47    Private      10th              6       Divorced    Exec-managerial   \n",
       "1   40    Private      10th              6       Divorced       Craft-repair   \n",
       "2   30    Private      10th              6       Divorced      Other-service   \n",
       "3   27    Private      10th              6       Divorced   Transport-moving   \n",
       "4   38    Private      10th              6       Divorced  Machine-op-inspct   \n",
       "\n",
       "    relationship                race     sex  hours_per_week native_country  \\\n",
       "0  Not-in-family  Amer-Indian-Eskimo  Female              45  United-States   \n",
       "1  Not-in-family  Amer-Indian-Eskimo    Male              40  United-States   \n",
       "2  Not-in-family  Amer-Indian-Eskimo    Male              40  United-States   \n",
       "3  Not-in-family  Amer-Indian-Eskimo    Male              75  United-States   \n",
       "4  Not-in-family  Asian-Pac-Islander  Female              40       Portugal   \n",
       "\n",
       "  fifty_k  \n",
       "0   <=50K  \n",
       "1   <=50K  \n",
       "2   <=50K  \n",
       "3   <=50K  \n",
       "4   <=50K  "
      ]
     },
     "execution_count": 1,
     "metadata": {},
     "output_type": "execute_result"
    }
   ],
   "source": [
    "import pandas as pd\n",
    "\n",
    "f = '../data/census_data.csv'\n",
    "\n",
    "# read in the file\n",
    "census = pd.read_csv(f)\n",
    "\n",
    "# look at the first 5 lines\n",
    "\n",
    "census.head()\n"
   ]
  },
  {
   "cell_type": "code",
   "execution_count": 2,
   "metadata": {},
   "outputs": [
    {
     "data": {
      "text/plain": [
       "Index(['age', 'work_class', 'education', 'education_num', 'marital_status',\n",
       "       'occupation', 'relationship', 'race', 'sex', 'hours_per_week',\n",
       "       'native_country', 'fifty_k'],\n",
       "      dtype='object')"
      ]
     },
     "execution_count": 2,
     "metadata": {},
     "output_type": "execute_result"
    }
   ],
   "source": [
    "# What are the column names?\n",
    "census.columns"
   ]
  },
  {
   "cell_type": "code",
   "execution_count": 64,
   "metadata": {},
   "outputs": [
    {
     "data": {
      "text/html": [
       "<div>\n",
       "<style scoped>\n",
       "    .dataframe tbody tr th:only-of-type {\n",
       "        vertical-align: middle;\n",
       "    }\n",
       "\n",
       "    .dataframe tbody tr th {\n",
       "        vertical-align: top;\n",
       "    }\n",
       "\n",
       "    .dataframe thead th {\n",
       "        text-align: right;\n",
       "    }\n",
       "</style>\n",
       "<table border=\"1\" class=\"dataframe\">\n",
       "  <thead>\n",
       "    <tr style=\"text-align: right;\">\n",
       "      <th></th>\n",
       "      <th>age</th>\n",
       "      <th>work_class</th>\n",
       "      <th>education</th>\n",
       "      <th>education_num</th>\n",
       "      <th>marital_status</th>\n",
       "      <th>occupation</th>\n",
       "      <th>relationship</th>\n",
       "      <th>race</th>\n",
       "      <th>sex</th>\n",
       "      <th>hours_per_week</th>\n",
       "      <th>native_country</th>\n",
       "      <th>fifty_k</th>\n",
       "    </tr>\n",
       "  </thead>\n",
       "  <tbody>\n",
       "    <tr>\n",
       "      <td>27276</td>\n",
       "      <td>90</td>\n",
       "      <td>Private</td>\n",
       "      <td>Some-college</td>\n",
       "      <td>10</td>\n",
       "      <td>Never-married</td>\n",
       "      <td>Other-service</td>\n",
       "      <td>Not-in-family</td>\n",
       "      <td>Asian-Pac-Islander</td>\n",
       "      <td>Male</td>\n",
       "      <td>35</td>\n",
       "      <td>United-States</td>\n",
       "      <td>&lt;=50K</td>\n",
       "    </tr>\n",
       "    <tr>\n",
       "      <td>1725</td>\n",
       "      <td>90</td>\n",
       "      <td>Private</td>\n",
       "      <td>11th</td>\n",
       "      <td>7</td>\n",
       "      <td>Never-married</td>\n",
       "      <td>Handlers-cleaners</td>\n",
       "      <td>Own-child</td>\n",
       "      <td>White</td>\n",
       "      <td>Male</td>\n",
       "      <td>40</td>\n",
       "      <td>United-States</td>\n",
       "      <td>&lt;=50K</td>\n",
       "    </tr>\n",
       "    <tr>\n",
       "      <td>3524</td>\n",
       "      <td>90</td>\n",
       "      <td>Private</td>\n",
       "      <td>9th</td>\n",
       "      <td>5</td>\n",
       "      <td>Never-married</td>\n",
       "      <td>Adm-clerical</td>\n",
       "      <td>Not-in-family</td>\n",
       "      <td>White</td>\n",
       "      <td>Female</td>\n",
       "      <td>40</td>\n",
       "      <td>United-States</td>\n",
       "      <td>&lt;=50K</td>\n",
       "    </tr>\n",
       "    <tr>\n",
       "      <td>21269</td>\n",
       "      <td>90</td>\n",
       "      <td>Private</td>\n",
       "      <td>HS-grad</td>\n",
       "      <td>9</td>\n",
       "      <td>Widowed</td>\n",
       "      <td>Transport-moving</td>\n",
       "      <td>Unmarried</td>\n",
       "      <td>White</td>\n",
       "      <td>Male</td>\n",
       "      <td>99</td>\n",
       "      <td>United-States</td>\n",
       "      <td>&lt;=50K</td>\n",
       "    </tr>\n",
       "    <tr>\n",
       "      <td>2940</td>\n",
       "      <td>90</td>\n",
       "      <td>Local-gov</td>\n",
       "      <td>7th-8th</td>\n",
       "      <td>4</td>\n",
       "      <td>Married-civ-spouse</td>\n",
       "      <td>Protective-serv</td>\n",
       "      <td>Husband</td>\n",
       "      <td>White</td>\n",
       "      <td>Male</td>\n",
       "      <td>40</td>\n",
       "      <td>United-States</td>\n",
       "      <td>&lt;=50K</td>\n",
       "    </tr>\n",
       "  </tbody>\n",
       "</table>\n",
       "</div>"
      ],
      "text/plain": [
       "       age work_class     education  education_num      marital_status  \\\n",
       "27276   90    Private  Some-college             10       Never-married   \n",
       "1725    90    Private          11th              7       Never-married   \n",
       "3524    90    Private           9th              5       Never-married   \n",
       "21269   90    Private       HS-grad              9             Widowed   \n",
       "2940    90  Local-gov       7th-8th              4  Married-civ-spouse   \n",
       "\n",
       "              occupation   relationship                race     sex  \\\n",
       "27276      Other-service  Not-in-family  Asian-Pac-Islander    Male   \n",
       "1725   Handlers-cleaners      Own-child               White    Male   \n",
       "3524        Adm-clerical  Not-in-family               White  Female   \n",
       "21269   Transport-moving      Unmarried               White    Male   \n",
       "2940     Protective-serv        Husband               White    Male   \n",
       "\n",
       "       hours_per_week native_country fifty_k  \n",
       "27276              35  United-States   <=50K  \n",
       "1725               40  United-States   <=50K  \n",
       "3524               40  United-States   <=50K  \n",
       "21269              99  United-States   <=50K  \n",
       "2940               40  United-States   <=50K  "
      ]
     },
     "execution_count": 64,
     "metadata": {},
     "output_type": "execute_result"
    }
   ],
   "source": [
    "# Sort the DataFrame by age and print out the last 5 lines\n",
    "census.sort_values('age').tail()"
   ]
  },
  {
   "cell_type": "markdown",
   "metadata": {},
   "source": [
    "## Selecting columns and rows"
   ]
  },
  {
   "cell_type": "code",
   "execution_count": 65,
   "metadata": {},
   "outputs": [
    {
     "data": {
      "text/html": [
       "<div>\n",
       "<style scoped>\n",
       "    .dataframe tbody tr th:only-of-type {\n",
       "        vertical-align: middle;\n",
       "    }\n",
       "\n",
       "    .dataframe tbody tr th {\n",
       "        vertical-align: top;\n",
       "    }\n",
       "\n",
       "    .dataframe thead th {\n",
       "        text-align: right;\n",
       "    }\n",
       "</style>\n",
       "<table border=\"1\" class=\"dataframe\">\n",
       "  <thead>\n",
       "    <tr style=\"text-align: right;\">\n",
       "      <th></th>\n",
       "      <th>education</th>\n",
       "      <th>occupation</th>\n",
       "      <th>hours_per_week</th>\n",
       "    </tr>\n",
       "  </thead>\n",
       "  <tbody>\n",
       "    <tr>\n",
       "      <td>0</td>\n",
       "      <td>10th</td>\n",
       "      <td>Exec-managerial</td>\n",
       "      <td>45</td>\n",
       "    </tr>\n",
       "    <tr>\n",
       "      <td>1</td>\n",
       "      <td>10th</td>\n",
       "      <td>Craft-repair</td>\n",
       "      <td>40</td>\n",
       "    </tr>\n",
       "    <tr>\n",
       "      <td>2</td>\n",
       "      <td>10th</td>\n",
       "      <td>Other-service</td>\n",
       "      <td>40</td>\n",
       "    </tr>\n",
       "    <tr>\n",
       "      <td>3</td>\n",
       "      <td>10th</td>\n",
       "      <td>Transport-moving</td>\n",
       "      <td>75</td>\n",
       "    </tr>\n",
       "    <tr>\n",
       "      <td>4</td>\n",
       "      <td>10th</td>\n",
       "      <td>Machine-op-inspct</td>\n",
       "      <td>40</td>\n",
       "    </tr>\n",
       "  </tbody>\n",
       "</table>\n",
       "</div>"
      ],
      "text/plain": [
       "  education         occupation  hours_per_week\n",
       "0      10th    Exec-managerial              45\n",
       "1      10th       Craft-repair              40\n",
       "2      10th      Other-service              40\n",
       "3      10th   Transport-moving              75\n",
       "4      10th  Machine-op-inspct              40"
      ]
     },
     "execution_count": 65,
     "metadata": {},
     "output_type": "execute_result"
    }
   ],
   "source": [
    "# create a subset of the data with the columns education, occupation, hours_per_week. Look at the first 5 rows.\n",
    "cen1= census[['education','occupation','hours_per_week']]\n",
    "cen1.head()"
   ]
  },
  {
   "cell_type": "code",
   "execution_count": 25,
   "metadata": {},
   "outputs": [],
   "source": [
    "# create a subset of the data with rows 50-100 and the columns work_class and race. Look at the first 5 rows.\n",
    "#cen2 = census[50:100, ['work_class','race']]\n",
    "\n",
    "cen2=census.loc[50:100,['work_class','race']].head()"
   ]
  },
  {
   "cell_type": "code",
   "execution_count": 36,
   "metadata": {},
   "outputs": [
    {
     "data": {
      "text/html": [
       "<div>\n",
       "<style scoped>\n",
       "    .dataframe tbody tr th:only-of-type {\n",
       "        vertical-align: middle;\n",
       "    }\n",
       "\n",
       "    .dataframe tbody tr th {\n",
       "        vertical-align: top;\n",
       "    }\n",
       "\n",
       "    .dataframe thead th {\n",
       "        text-align: right;\n",
       "    }\n",
       "</style>\n",
       "<table border=\"1\" class=\"dataframe\">\n",
       "  <thead>\n",
       "    <tr style=\"text-align: right;\">\n",
       "      <th></th>\n",
       "      <th>age</th>\n",
       "      <th>work_class</th>\n",
       "      <th>education</th>\n",
       "      <th>education_num</th>\n",
       "      <th>marital_status</th>\n",
       "      <th>occupation</th>\n",
       "      <th>relationship</th>\n",
       "      <th>race</th>\n",
       "      <th>sex</th>\n",
       "      <th>hours_per_week</th>\n",
       "      <th>native_country</th>\n",
       "      <th>fifty_k</th>\n",
       "    </tr>\n",
       "  </thead>\n",
       "  <tbody>\n",
       "    <tr>\n",
       "      <td>3697</td>\n",
       "      <td>46</td>\n",
       "      <td>Private</td>\n",
       "      <td>Assoc-acdm</td>\n",
       "      <td>12</td>\n",
       "      <td>Divorced</td>\n",
       "      <td>Tech-support</td>\n",
       "      <td>Not-in-family</td>\n",
       "      <td>Black</td>\n",
       "      <td>Female</td>\n",
       "      <td>36</td>\n",
       "      <td>United-States</td>\n",
       "      <td>&lt;=50K</td>\n",
       "    </tr>\n",
       "    <tr>\n",
       "      <td>3698</td>\n",
       "      <td>41</td>\n",
       "      <td>Private</td>\n",
       "      <td>Assoc-acdm</td>\n",
       "      <td>12</td>\n",
       "      <td>Divorced</td>\n",
       "      <td>Exec-managerial</td>\n",
       "      <td>Not-in-family</td>\n",
       "      <td>Black</td>\n",
       "      <td>Female</td>\n",
       "      <td>40</td>\n",
       "      <td>Jamaica</td>\n",
       "      <td>&lt;=50K</td>\n",
       "    </tr>\n",
       "    <tr>\n",
       "      <td>3699</td>\n",
       "      <td>44</td>\n",
       "      <td>Federal-gov</td>\n",
       "      <td>Assoc-acdm</td>\n",
       "      <td>12</td>\n",
       "      <td>Divorced</td>\n",
       "      <td>Adm-clerical</td>\n",
       "      <td>Not-in-family</td>\n",
       "      <td>Black</td>\n",
       "      <td>Female</td>\n",
       "      <td>40</td>\n",
       "      <td>United-States</td>\n",
       "      <td>&lt;=50K</td>\n",
       "    </tr>\n",
       "    <tr>\n",
       "      <td>3700</td>\n",
       "      <td>57</td>\n",
       "      <td>Private</td>\n",
       "      <td>Assoc-acdm</td>\n",
       "      <td>12</td>\n",
       "      <td>Divorced</td>\n",
       "      <td>Adm-clerical</td>\n",
       "      <td>Not-in-family</td>\n",
       "      <td>Black</td>\n",
       "      <td>Female</td>\n",
       "      <td>40</td>\n",
       "      <td>United-States</td>\n",
       "      <td>&lt;=50K</td>\n",
       "    </tr>\n",
       "    <tr>\n",
       "      <td>3701</td>\n",
       "      <td>32</td>\n",
       "      <td>Local-gov</td>\n",
       "      <td>Assoc-acdm</td>\n",
       "      <td>12</td>\n",
       "      <td>Divorced</td>\n",
       "      <td>Exec-managerial</td>\n",
       "      <td>Not-in-family</td>\n",
       "      <td>Black</td>\n",
       "      <td>Female</td>\n",
       "      <td>40</td>\n",
       "      <td>United-States</td>\n",
       "      <td>&lt;=50K</td>\n",
       "    </tr>\n",
       "  </tbody>\n",
       "</table>\n",
       "</div>"
      ],
      "text/plain": [
       "      age   work_class   education  education_num marital_status  \\\n",
       "3697   46      Private  Assoc-acdm             12       Divorced   \n",
       "3698   41      Private  Assoc-acdm             12       Divorced   \n",
       "3699   44  Federal-gov  Assoc-acdm             12       Divorced   \n",
       "3700   57      Private  Assoc-acdm             12       Divorced   \n",
       "3701   32    Local-gov  Assoc-acdm             12       Divorced   \n",
       "\n",
       "           occupation   relationship   race     sex  hours_per_week  \\\n",
       "3697     Tech-support  Not-in-family  Black  Female              36   \n",
       "3698  Exec-managerial  Not-in-family  Black  Female              40   \n",
       "3699     Adm-clerical  Not-in-family  Black  Female              40   \n",
       "3700     Adm-clerical  Not-in-family  Black  Female              40   \n",
       "3701  Exec-managerial  Not-in-family  Black  Female              40   \n",
       "\n",
       "     native_country fifty_k  \n",
       "3697  United-States   <=50K  \n",
       "3698        Jamaica   <=50K  \n",
       "3699  United-States   <=50K  \n",
       "3700  United-States   <=50K  \n",
       "3701  United-States   <=50K  "
      ]
     },
     "execution_count": 36,
     "metadata": {},
     "output_type": "execute_result"
    }
   ],
   "source": [
    "# create a subset of the data where education_num is greater than 8 and where sex is equal to Female. Look at the first 5 rows\n",
    "\n",
    "cen3=census[(census['education_num'] > 8 ) & (census['sex']=='Female')]\n",
    "cen3.head()\n"
   ]
  },
  {
   "cell_type": "markdown",
   "metadata": {},
   "source": [
    "## groupby"
   ]
  },
  {
   "cell_type": "code",
   "execution_count": 40,
   "metadata": {},
   "outputs": [
    {
     "data": {
      "text/plain": [
       "dict_keys(['Federal-gov', 'Local-gov', 'Private', 'Self-emp-inc', 'Self-emp-not-inc', 'State-gov', 'Without-pay'])"
      ]
     },
     "execution_count": 40,
     "metadata": {},
     "output_type": "execute_result"
    }
   ],
   "source": [
    "# Group by work_class and output the group names (hint: add .keys() to the end of your line of code).\n",
    "census.groupby('work_class').groups.keys()"
   ]
  },
  {
   "cell_type": "code",
   "execution_count": 41,
   "metadata": {},
   "outputs": [
    {
     "data": {
      "text/html": [
       "<div>\n",
       "<style scoped>\n",
       "    .dataframe tbody tr th:only-of-type {\n",
       "        vertical-align: middle;\n",
       "    }\n",
       "\n",
       "    .dataframe tbody tr th {\n",
       "        vertical-align: top;\n",
       "    }\n",
       "\n",
       "    .dataframe thead th {\n",
       "        text-align: right;\n",
       "    }\n",
       "</style>\n",
       "<table border=\"1\" class=\"dataframe\">\n",
       "  <thead>\n",
       "    <tr style=\"text-align: right;\">\n",
       "      <th></th>\n",
       "      <th>age</th>\n",
       "      <th>education_num</th>\n",
       "      <th>hours_per_week</th>\n",
       "    </tr>\n",
       "    <tr>\n",
       "      <th>work_class</th>\n",
       "      <th></th>\n",
       "      <th></th>\n",
       "      <th></th>\n",
       "    </tr>\n",
       "  </thead>\n",
       "  <tbody>\n",
       "    <tr>\n",
       "      <td>Federal-gov</td>\n",
       "      <td>42.577943</td>\n",
       "      <td>10.948038</td>\n",
       "      <td>41.279958</td>\n",
       "    </tr>\n",
       "    <tr>\n",
       "      <td>Local-gov</td>\n",
       "      <td>41.743106</td>\n",
       "      <td>11.036768</td>\n",
       "      <td>41.002419</td>\n",
       "    </tr>\n",
       "    <tr>\n",
       "      <td>Private</td>\n",
       "      <td>36.794355</td>\n",
       "      <td>9.871085</td>\n",
       "      <td>40.250875</td>\n",
       "    </tr>\n",
       "    <tr>\n",
       "      <td>Self-emp-inc</td>\n",
       "      <td>46.027933</td>\n",
       "      <td>11.167598</td>\n",
       "      <td>48.802607</td>\n",
       "    </tr>\n",
       "    <tr>\n",
       "      <td>Self-emp-not-inc</td>\n",
       "      <td>45.011605</td>\n",
       "      <td>10.211285</td>\n",
       "      <td>44.432173</td>\n",
       "    </tr>\n",
       "    <tr>\n",
       "      <td>State-gov</td>\n",
       "      <td>39.362002</td>\n",
       "      <td>11.349492</td>\n",
       "      <td>39.053948</td>\n",
       "    </tr>\n",
       "    <tr>\n",
       "      <td>Without-pay</td>\n",
       "      <td>47.785714</td>\n",
       "      <td>9.071429</td>\n",
       "      <td>32.714286</td>\n",
       "    </tr>\n",
       "  </tbody>\n",
       "</table>\n",
       "</div>"
      ],
      "text/plain": [
       "                        age  education_num  hours_per_week\n",
       "work_class                                                \n",
       "Federal-gov       42.577943      10.948038       41.279958\n",
       "Local-gov         41.743106      11.036768       41.002419\n",
       "Private           36.794355       9.871085       40.250875\n",
       "Self-emp-inc      46.027933      11.167598       48.802607\n",
       "Self-emp-not-inc  45.011605      10.211285       44.432173\n",
       "State-gov         39.362002      11.349492       39.053948\n",
       "Without-pay       47.785714       9.071429       32.714286"
      ]
     },
     "execution_count": 41,
     "metadata": {},
     "output_type": "execute_result"
    }
   ],
   "source": [
    "# Let's group by work_class and use the mean as the aggregate function\n",
    "\n",
    "census.groupby('work_class').mean()"
   ]
  },
  {
   "cell_type": "markdown",
   "metadata": {},
   "source": [
    "## Pivoting"
   ]
  },
  {
   "cell_type": "code",
   "execution_count": 46,
   "metadata": {},
   "outputs": [
    {
     "data": {
      "text/html": [
       "<div>\n",
       "<style scoped>\n",
       "    .dataframe tbody tr th:only-of-type {\n",
       "        vertical-align: middle;\n",
       "    }\n",
       "\n",
       "    .dataframe tbody tr th {\n",
       "        vertical-align: top;\n",
       "    }\n",
       "\n",
       "    .dataframe thead th {\n",
       "        text-align: right;\n",
       "    }\n",
       "</style>\n",
       "<table border=\"1\" class=\"dataframe\">\n",
       "  <thead>\n",
       "    <tr style=\"text-align: right;\">\n",
       "      <th>sex</th>\n",
       "      <th>Female</th>\n",
       "      <th>Male</th>\n",
       "    </tr>\n",
       "    <tr>\n",
       "      <th>education_num</th>\n",
       "      <th></th>\n",
       "      <th></th>\n",
       "    </tr>\n",
       "  </thead>\n",
       "  <tbody>\n",
       "    <tr>\n",
       "      <td>1</td>\n",
       "      <td>32.142857</td>\n",
       "      <td>39.000000</td>\n",
       "    </tr>\n",
       "    <tr>\n",
       "      <td>2</td>\n",
       "      <td>31.883721</td>\n",
       "      <td>40.962963</td>\n",
       "    </tr>\n",
       "    <tr>\n",
       "      <td>3</td>\n",
       "      <td>34.942029</td>\n",
       "      <td>40.013699</td>\n",
       "    </tr>\n",
       "    <tr>\n",
       "      <td>4</td>\n",
       "      <td>36.901515</td>\n",
       "      <td>41.134118</td>\n",
       "    </tr>\n",
       "    <tr>\n",
       "      <td>5</td>\n",
       "      <td>34.739496</td>\n",
       "      <td>40.193452</td>\n",
       "    </tr>\n",
       "    <tr>\n",
       "      <td>6</td>\n",
       "      <td>32.548000</td>\n",
       "      <td>39.621053</td>\n",
       "    </tr>\n",
       "    <tr>\n",
       "      <td>7</td>\n",
       "      <td>29.528302</td>\n",
       "      <td>36.750369</td>\n",
       "    </tr>\n",
       "    <tr>\n",
       "      <td>8</td>\n",
       "      <td>31.524590</td>\n",
       "      <td>37.694118</td>\n",
       "    </tr>\n",
       "    <tr>\n",
       "      <td>9</td>\n",
       "      <td>37.128783</td>\n",
       "      <td>42.847045</td>\n",
       "    </tr>\n",
       "    <tr>\n",
       "      <td>10</td>\n",
       "      <td>35.127643</td>\n",
       "      <td>41.985615</td>\n",
       "    </tr>\n",
       "    <tr>\n",
       "      <td>11</td>\n",
       "      <td>38.542857</td>\n",
       "      <td>43.775822</td>\n",
       "    </tr>\n",
       "    <tr>\n",
       "      <td>12</td>\n",
       "      <td>37.918987</td>\n",
       "      <td>43.288744</td>\n",
       "    </tr>\n",
       "    <tr>\n",
       "      <td>13</td>\n",
       "      <td>39.650460</td>\n",
       "      <td>44.373651</td>\n",
       "    </tr>\n",
       "    <tr>\n",
       "      <td>14</td>\n",
       "      <td>41.406680</td>\n",
       "      <td>45.531306</td>\n",
       "    </tr>\n",
       "    <tr>\n",
       "      <td>15</td>\n",
       "      <td>44.896552</td>\n",
       "      <td>48.549451</td>\n",
       "    </tr>\n",
       "    <tr>\n",
       "      <td>16</td>\n",
       "      <td>47.703704</td>\n",
       "      <td>47.867347</td>\n",
       "    </tr>\n",
       "  </tbody>\n",
       "</table>\n",
       "</div>"
      ],
      "text/plain": [
       "sex               Female       Male\n",
       "education_num                      \n",
       "1              32.142857  39.000000\n",
       "2              31.883721  40.962963\n",
       "3              34.942029  40.013699\n",
       "4              36.901515  41.134118\n",
       "5              34.739496  40.193452\n",
       "6              32.548000  39.621053\n",
       "7              29.528302  36.750369\n",
       "8              31.524590  37.694118\n",
       "9              37.128783  42.847045\n",
       "10             35.127643  41.985615\n",
       "11             38.542857  43.775822\n",
       "12             37.918987  43.288744\n",
       "13             39.650460  44.373651\n",
       "14             41.406680  45.531306\n",
       "15             44.896552  48.549451\n",
       "16             47.703704  47.867347"
      ]
     },
     "execution_count": 46,
     "metadata": {},
     "output_type": "execute_result"
    }
   ],
   "source": [
    "# Let's pivot on education_num and sex, with hours_per_week as the values and mean as the aggfunc\n",
    "\n",
    "census.pivot_table(index=['education_num'],columns='sex',values='hours_per_week',aggfunc='mean')"
   ]
  },
  {
   "cell_type": "code",
   "execution_count": null,
   "metadata": {},
   "outputs": [],
   "source": [
    "# Create a pivot table of your choosing, with any columns for rows and cols and a numerical columns for values.\n",
    "\n",
    "census.pivot_table"
   ]
  },
  {
   "cell_type": "markdown",
   "metadata": {},
   "source": [
    "## Let's do the following:\n",
    "\n",
    "For the machine learning section, can you extract a subset of the data where:\n",
    "\n",
    "- `native_country` equals `United-States`\n",
    "- `hours_per_week` is greater than 10\n",
    "- `age` is greater than 20 and less than 50\n",
    "- `education` is `Masters`\n",
    "\n",
    "It's going to be a bunch of boolean indexing!"
   ]
  },
  {
   "cell_type": "code",
   "execution_count": 48,
   "metadata": {},
   "outputs": [
    {
     "data": {
      "text/html": [
       "<div>\n",
       "<style scoped>\n",
       "    .dataframe tbody tr th:only-of-type {\n",
       "        vertical-align: middle;\n",
       "    }\n",
       "\n",
       "    .dataframe tbody tr th {\n",
       "        vertical-align: top;\n",
       "    }\n",
       "\n",
       "    .dataframe thead th {\n",
       "        text-align: right;\n",
       "    }\n",
       "</style>\n",
       "<table border=\"1\" class=\"dataframe\">\n",
       "  <thead>\n",
       "    <tr style=\"text-align: right;\">\n",
       "      <th></th>\n",
       "      <th>age</th>\n",
       "      <th>work_class</th>\n",
       "      <th>education</th>\n",
       "      <th>education_num</th>\n",
       "      <th>marital_status</th>\n",
       "      <th>occupation</th>\n",
       "      <th>relationship</th>\n",
       "      <th>race</th>\n",
       "      <th>sex</th>\n",
       "      <th>hours_per_week</th>\n",
       "      <th>native_country</th>\n",
       "      <th>fifty_k</th>\n",
       "    </tr>\n",
       "  </thead>\n",
       "  <tbody>\n",
       "    <tr>\n",
       "      <td>21271</td>\n",
       "      <td>46</td>\n",
       "      <td>Local-gov</td>\n",
       "      <td>Masters</td>\n",
       "      <td>14</td>\n",
       "      <td>Divorced</td>\n",
       "      <td>Prof-specialty</td>\n",
       "      <td>Not-in-family</td>\n",
       "      <td>Amer-Indian-Eskimo</td>\n",
       "      <td>Male</td>\n",
       "      <td>40</td>\n",
       "      <td>United-States</td>\n",
       "      <td>&lt;=50K</td>\n",
       "    </tr>\n",
       "    <tr>\n",
       "      <td>21279</td>\n",
       "      <td>45</td>\n",
       "      <td>Local-gov</td>\n",
       "      <td>Masters</td>\n",
       "      <td>14</td>\n",
       "      <td>Divorced</td>\n",
       "      <td>Prof-specialty</td>\n",
       "      <td>Not-in-family</td>\n",
       "      <td>Black</td>\n",
       "      <td>Male</td>\n",
       "      <td>40</td>\n",
       "      <td>United-States</td>\n",
       "      <td>&lt;=50K</td>\n",
       "    </tr>\n",
       "    <tr>\n",
       "      <td>21280</td>\n",
       "      <td>47</td>\n",
       "      <td>Local-gov</td>\n",
       "      <td>Masters</td>\n",
       "      <td>14</td>\n",
       "      <td>Divorced</td>\n",
       "      <td>Protective-serv</td>\n",
       "      <td>Not-in-family</td>\n",
       "      <td>Black</td>\n",
       "      <td>Male</td>\n",
       "      <td>50</td>\n",
       "      <td>United-States</td>\n",
       "      <td>&gt;50K</td>\n",
       "    </tr>\n",
       "    <tr>\n",
       "      <td>21281</td>\n",
       "      <td>31</td>\n",
       "      <td>Private</td>\n",
       "      <td>Masters</td>\n",
       "      <td>14</td>\n",
       "      <td>Divorced</td>\n",
       "      <td>Other-service</td>\n",
       "      <td>Not-in-family</td>\n",
       "      <td>Other</td>\n",
       "      <td>Female</td>\n",
       "      <td>30</td>\n",
       "      <td>United-States</td>\n",
       "      <td>&lt;=50K</td>\n",
       "    </tr>\n",
       "    <tr>\n",
       "      <td>21285</td>\n",
       "      <td>45</td>\n",
       "      <td>Self-emp-not-inc</td>\n",
       "      <td>Masters</td>\n",
       "      <td>14</td>\n",
       "      <td>Divorced</td>\n",
       "      <td>Prof-specialty</td>\n",
       "      <td>Not-in-family</td>\n",
       "      <td>White</td>\n",
       "      <td>Female</td>\n",
       "      <td>15</td>\n",
       "      <td>United-States</td>\n",
       "      <td>&lt;=50K</td>\n",
       "    </tr>\n",
       "  </tbody>\n",
       "</table>\n",
       "</div>"
      ],
      "text/plain": [
       "       age        work_class education  education_num marital_status  \\\n",
       "21271   46         Local-gov   Masters             14       Divorced   \n",
       "21279   45         Local-gov   Masters             14       Divorced   \n",
       "21280   47         Local-gov   Masters             14       Divorced   \n",
       "21281   31           Private   Masters             14       Divorced   \n",
       "21285   45  Self-emp-not-inc   Masters             14       Divorced   \n",
       "\n",
       "            occupation   relationship                race     sex  \\\n",
       "21271   Prof-specialty  Not-in-family  Amer-Indian-Eskimo    Male   \n",
       "21279   Prof-specialty  Not-in-family               Black    Male   \n",
       "21280  Protective-serv  Not-in-family               Black    Male   \n",
       "21281    Other-service  Not-in-family               Other  Female   \n",
       "21285   Prof-specialty  Not-in-family               White  Female   \n",
       "\n",
       "       hours_per_week native_country fifty_k  \n",
       "21271              40  United-States   <=50K  \n",
       "21279              40  United-States   <=50K  \n",
       "21280              50  United-States    >50K  \n",
       "21281              30  United-States   <=50K  \n",
       "21285              15  United-States   <=50K  "
      ]
     },
     "execution_count": 48,
     "metadata": {},
     "output_type": "execute_result"
    }
   ],
   "source": [
    "# Store that new dataframe in new_df and print out the first five rows.\n",
    "\n",
    "cenml = census[(census['native_country']=='United-States') & (census['hours_per_week']>10) & (census['age']>20 ) & (census['age']<50 ) & (census['education'] =='Masters' )]\n",
    "\n",
    "cenml.head()"
   ]
  },
  {
   "cell_type": "code",
   "execution_count": 61,
   "metadata": {},
   "outputs": [
    {
     "data": {
      "text/plain": [
       "(1052,)"
      ]
     },
     "execution_count": 61,
     "metadata": {},
     "output_type": "execute_result"
    }
   ],
   "source": [
    "# Split the DataFrame so that all of the columns except the last one are in new_df_data, and the last one is in new_df_labels.\n",
    "\n",
    "new_df_data = cenml.iloc[:,:-1]\n",
    "\n",
    "new_df_data.head()\n",
    "\n",
    "cenml.shape\n",
    "\n",
    "new_df_data.shape\n",
    "\n",
    "new_df_labels = cenml.iloc[:,-1]\n",
    "\n",
    "new_df_labels.head()\n",
    "\n",
    "new_df_labels.shape"
   ]
  },
  {
   "cell_type": "markdown",
   "metadata": {},
   "source": [
    "# For those using IPython Notebook/Wakari/NBViewer: Go to the [scikit_learn](scikit_learn.ipynb) notebook!\n",
    "\n",
    "(For those using code files, please go to scikit_learn_materials.py!)\n",
    "\n",
    "###End of Pandas section.\n",
    "\n",
    "# Lesson: let's classify our data!\n",
    "\n",
    "## Final preprocessing touches\n",
    "\n",
    "Scikit-learn estimators take in continuous data only, which means that we'll have to transform our categorical data into something the scikit-learn estimators can handle. This is actually much easier than it sounds! We're going to convert our dataframe into a dictionary, and then encode the data in that dictionary into arrays of 1s and 0s.\n",
    "\n",
    "Let's first transform the `DataFrame` into a dictionary. We first have to transpose our `DataFrame`, so there is one row per nested dictionary. Finally, we'll put each item into a list, because scikit-learn's `DictVectorizer` object takes a list of dictionaries to encode. We also only need the values from our list of dictionaries."
   ]
  },
  {
   "cell_type": "code",
   "execution_count": 67,
   "metadata": {},
   "outputs": [],
   "source": [
    "new_df_transpose = new_df_data.transpose()\n",
    "\n",
    "data_into_dict = new_df_transpose.to_dict()\n",
    "census_data = [v for k, v in data_into_dict.items()]"
   ]
  },
  {
   "cell_type": "markdown",
   "metadata": {},
   "source": [
    "Now, let's encode those features and instances."
   ]
  },
  {
   "cell_type": "code",
   "execution_count": 68,
   "metadata": {},
   "outputs": [
    {
     "data": {
      "text/plain": [
       "array([[46.,  1., 14., ...,  0.,  0.,  0.],\n",
       "       [45.,  1., 14., ...,  0.,  0.,  0.],\n",
       "       [47.,  1., 14., ...,  0.,  0.,  0.],\n",
       "       ...,\n",
       "       [49.,  1., 14., ...,  0.,  0.,  0.],\n",
       "       [46.,  1., 14., ...,  0.,  0.,  1.],\n",
       "       [43.,  1., 14., ...,  0.,  0.,  0.]])"
      ]
     },
     "execution_count": 68,
     "metadata": {},
     "output_type": "execute_result"
    }
   ],
   "source": [
    "from sklearn.feature_extraction import DictVectorizer\n",
    "\n",
    "dv = DictVectorizer()\n",
    "transformed_data = dv.fit_transform(census_data).toarray()\n",
    "transformed_data"
   ]
  },
  {
   "cell_type": "markdown",
   "metadata": {},
   "source": [
    "Now that we've done that, let's encode the labels."
   ]
  },
  {
   "cell_type": "code",
   "execution_count": 69,
   "metadata": {},
   "outputs": [
    {
     "data": {
      "text/plain": [
       "array([0, 0, 1, ..., 0, 0, 1])"
      ]
     },
     "execution_count": 69,
     "metadata": {},
     "output_type": "execute_result"
    }
   ],
   "source": [
    "from sklearn.preprocessing import LabelEncoder\n",
    "\n",
    "le = LabelEncoder()\n",
    "transformed_labels = le.fit_transform(new_df_labels)\n",
    "transformed_labels"
   ]
  },
  {
   "cell_type": "markdown",
   "metadata": {},
   "source": [
    "Now that we've done that, can you separate the `transformed_data` and `transformed_labels` into training and test sets?"
   ]
  },
  {
   "cell_type": "code",
   "execution_count": 72,
   "metadata": {},
   "outputs": [],
   "source": [
    "from sklearn.model_selection import train_test_split\n",
    "\n",
    "trancen_data_train,trancen_data_test,trancen_lab_train,trancen_lab_test=train_test_split(transformed_data,transformed_labels)"
   ]
  },
  {
   "cell_type": "markdown",
   "metadata": {},
   "source": [
    "Let's fit and predict all three classifiers to this data."
   ]
  },
  {
   "cell_type": "code",
   "execution_count": 77,
   "metadata": {},
   "outputs": [
    {
     "data": {
      "text/plain": [
       "array([1, 0, 1, 1, 0, 0, 1, 0, 0, 1])"
      ]
     },
     "execution_count": 77,
     "metadata": {},
     "output_type": "execute_result"
    }
   ],
   "source": [
    "from sklearn.neighbors import KNeighborsClassifier\n",
    "from sklearn.tree import DecisionTreeClassifier\n",
    "from sklearn.naive_bayes import GaussianNB\n",
    "\n",
    "# fit all\n",
    "\n",
    "knn_cen = KNeighborsClassifier()\n",
    "knn_cen.fit(trancen_data_train,trancen_lab_train)\n",
    "\n",
    "dt_cen = DecisionTreeClassifier()\n",
    "dt_cen.fit(trancen_data_train,trancen_lab_train)\n",
    "\n",
    "nb_cen = GaussianNB()\n",
    "nb_cen.fit(trancen_data_train,trancen_lab_train)\n",
    "\n",
    "# predict all\n",
    "knn_pred = knn_cen.predict(trancen_data_test)\n",
    "dt_pred = dt_cen.predict(trancen_data_test)\n",
    "nb_pred=nb_cen.predict(trancen_data_test)\n",
    "\n",
    "# Output kNN predictions on first 10 labels\n",
    "\n",
    "knn_pred[:10]\n"
   ]
  },
  {
   "cell_type": "code",
   "execution_count": 78,
   "metadata": {},
   "outputs": [
    {
     "data": {
      "text/plain": [
       "array([1, 0, 0, 1, 0, 0, 1, 0, 1, 1])"
      ]
     },
     "execution_count": 78,
     "metadata": {},
     "output_type": "execute_result"
    }
   ],
   "source": [
    "# Output decision tree predictions on first 10 labels\n",
    "dt_pred[:10]"
   ]
  },
  {
   "cell_type": "code",
   "execution_count": 79,
   "metadata": {},
   "outputs": [
    {
     "data": {
      "text/plain": [
       "array([1, 0, 0, 0, 0, 0, 0, 0, 0, 1])"
      ]
     },
     "execution_count": 79,
     "metadata": {},
     "output_type": "execute_result"
    }
   ],
   "source": [
    "# Output NB predictions on first 10 labels\n",
    "nb_pred[:10]"
   ]
  },
  {
   "cell_type": "markdown",
   "metadata": {},
   "source": [
    "Let's cross validate each."
   ]
  },
  {
   "cell_type": "code",
   "execution_count": 82,
   "metadata": {},
   "outputs": [
    {
     "data": {
      "text/plain": [
       "array([0.61792453, 0.60952381, 0.61904762, 0.48571429, 0.6047619 ])"
      ]
     },
     "execution_count": 82,
     "metadata": {},
     "output_type": "execute_result"
    }
   ],
   "source": [
    "# Run cross-validation on kNN. Set cv=5\n",
    "from sklearn.model_selection import cross_val_score\n",
    "\n",
    "cross_val_score(knn_cen,transformed_data,transformed_labels,cv=5)"
   ]
  },
  {
   "cell_type": "code",
   "execution_count": 83,
   "metadata": {},
   "outputs": [
    {
     "data": {
      "text/plain": [
       "array([0.71226415, 0.57619048, 0.5952381 , 0.53333333, 0.66190476])"
      ]
     },
     "execution_count": 83,
     "metadata": {},
     "output_type": "execute_result"
    }
   ],
   "source": [
    "# Run cross-validation on NB. Set cv=5\n",
    "cross_val_score(nb_cen,transformed_data,transformed_labels,cv=5)"
   ]
  },
  {
   "cell_type": "code",
   "execution_count": 84,
   "metadata": {},
   "outputs": [
    {
     "data": {
      "text/plain": [
       "array([0.66509434, 0.57619048, 0.6047619 , 0.36666667, 0.49047619])"
      ]
     },
     "execution_count": 84,
     "metadata": {},
     "output_type": "execute_result"
    }
   ],
   "source": [
    "cross_val_score(dt_cen,transformed_data,transformed_labels,cv=5)"
   ]
  },
  {
   "cell_type": "markdown",
   "metadata": {},
   "source": [
    "# For those using IPython Notebook/Wakari/NBViewer: Go to the [matplotlib](matplotlib.ipynb) notebook!\n",
    "\n",
    "(For those using code files, please go to matplotlib_materials.py!)\n",
    "\n",
    "### End of scikit-learn section.\n",
    "\n",
    "# Lesson: what can plots tell us about our data and results?"
   ]
  },
  {
   "cell_type": "code",
   "execution_count": null,
   "metadata": {},
   "outputs": [],
   "source": [
    "# Let's look at the distribution of classes in our dataset. Can you get the value_counts of new_df_labels and make a bar chart?\n",
    "%matplotlib inline\n",
    "import matplotlib.pyplot as plt\n"
   ]
  },
  {
   "cell_type": "code",
   "execution_count": null,
   "metadata": {},
   "outputs": [],
   "source": [
    "# Now, can you make a bar chart comparing the predicted kNN labels to the actual labels? You can use the first 10 only if you want.\n",
    "\n"
   ]
  },
  {
   "cell_type": "code",
   "execution_count": null,
   "metadata": {},
   "outputs": [],
   "source": [
    "# What other visualizations would be helpful? Can you come up with a few more?\n",
    "\n"
   ]
  }
 ],
 "metadata": {
  "kernelspec": {
   "display_name": "Python 3",
   "language": "python",
   "name": "python3"
  },
  "language_info": {
   "codemirror_mode": {
    "name": "ipython",
    "version": 3
   },
   "file_extension": ".py",
   "mimetype": "text/x-python",
   "name": "python",
   "nbconvert_exporter": "python",
   "pygments_lexer": "ipython3",
   "version": "3.7.4"
  }
 },
 "nbformat": 4,
 "nbformat_minor": 1
}
